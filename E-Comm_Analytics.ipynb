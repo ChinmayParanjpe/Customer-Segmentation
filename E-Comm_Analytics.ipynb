{
 "cells": [
  {
   "cell_type": "code",
   "execution_count": 257,
   "id": "87579342",
   "metadata": {},
   "outputs": [],
   "source": [
    "#importing required libraries\n",
    "import pandas as pd\n",
    "import numpy as np\n",
    "import datetime as dt\n",
    "import matplotlib.pyplot as plt\n",
    "import plotly.graph_objects as go\n",
    "import plotly.express as px"
   ]
  },
  {
   "cell_type": "code",
   "execution_count": 258,
   "id": "1f8bef98",
   "metadata": {},
   "outputs": [
    {
     "data": {
      "text/html": [
       "<div>\n",
       "<style scoped>\n",
       "    .dataframe tbody tr th:only-of-type {\n",
       "        vertical-align: middle;\n",
       "    }\n",
       "\n",
       "    .dataframe tbody tr th {\n",
       "        vertical-align: top;\n",
       "    }\n",
       "\n",
       "    .dataframe thead th {\n",
       "        text-align: right;\n",
       "    }\n",
       "</style>\n",
       "<table border=\"1\" class=\"dataframe\">\n",
       "  <thead>\n",
       "    <tr style=\"text-align: right;\">\n",
       "      <th></th>\n",
       "      <th>CustomerID</th>\n",
       "      <th>Item Code</th>\n",
       "      <th>InvoieNo</th>\n",
       "      <th>Date of purchase</th>\n",
       "      <th>Quantity</th>\n",
       "      <th>Time</th>\n",
       "      <th>price per Unit</th>\n",
       "      <th>Price</th>\n",
       "      <th>Shipping Location</th>\n",
       "      <th>Cancelled_status</th>\n",
       "      <th>Reason of return</th>\n",
       "      <th>Sold as set</th>\n",
       "    </tr>\n",
       "  </thead>\n",
       "  <tbody>\n",
       "    <tr>\n",
       "      <th>0</th>\n",
       "      <td>4355.0</td>\n",
       "      <td>15734</td>\n",
       "      <td>398177</td>\n",
       "      <td>2017-10-29</td>\n",
       "      <td>6</td>\n",
       "      <td>15:36:00</td>\n",
       "      <td>321.0</td>\n",
       "      <td>1926.0</td>\n",
       "      <td>Location 1</td>\n",
       "      <td>NaN</td>\n",
       "      <td>NaN</td>\n",
       "      <td>NaN</td>\n",
       "    </tr>\n",
       "    <tr>\n",
       "      <th>1</th>\n",
       "      <td>4352.0</td>\n",
       "      <td>14616</td>\n",
       "      <td>394422</td>\n",
       "      <td>2017-10-05</td>\n",
       "      <td>2</td>\n",
       "      <td>14:53:00</td>\n",
       "      <td>870.0</td>\n",
       "      <td>1740.0</td>\n",
       "      <td>Location 1</td>\n",
       "      <td>NaN</td>\n",
       "      <td>NaN</td>\n",
       "      <td>NaN</td>\n",
       "    </tr>\n",
       "    <tr>\n",
       "      <th>2</th>\n",
       "      <td>4352.0</td>\n",
       "      <td>14614</td>\n",
       "      <td>394422</td>\n",
       "      <td>2017-10-12</td>\n",
       "      <td>2</td>\n",
       "      <td>14:53:00</td>\n",
       "      <td>933.0</td>\n",
       "      <td>1866.0</td>\n",
       "      <td>Location 1</td>\n",
       "      <td>NaN</td>\n",
       "      <td>NaN</td>\n",
       "      <td>NaN</td>\n",
       "    </tr>\n",
       "    <tr>\n",
       "      <th>3</th>\n",
       "      <td>4352.0</td>\n",
       "      <td>85014B</td>\n",
       "      <td>388633</td>\n",
       "      <td>2017-08-22</td>\n",
       "      <td>3</td>\n",
       "      <td>14:47:00</td>\n",
       "      <td>623.0</td>\n",
       "      <td>1869.0</td>\n",
       "      <td>Location 1</td>\n",
       "      <td>NaN</td>\n",
       "      <td>NaN</td>\n",
       "      <td>NaN</td>\n",
       "    </tr>\n",
       "    <tr>\n",
       "      <th>4</th>\n",
       "      <td>4352.0</td>\n",
       "      <td>15364</td>\n",
       "      <td>394422</td>\n",
       "      <td>2017-10-10</td>\n",
       "      <td>2</td>\n",
       "      <td>14:53:00</td>\n",
       "      <td>944.0</td>\n",
       "      <td>1888.0</td>\n",
       "      <td>Location 1</td>\n",
       "      <td>NaN</td>\n",
       "      <td>NaN</td>\n",
       "      <td>NaN</td>\n",
       "    </tr>\n",
       "  </tbody>\n",
       "</table>\n",
       "</div>"
      ],
      "text/plain": [
       "   CustomerID Item Code  InvoieNo Date of purchase  Quantity      Time  \\\n",
       "0      4355.0     15734    398177       2017-10-29         6  15:36:00   \n",
       "1      4352.0     14616    394422       2017-10-05         2  14:53:00   \n",
       "2      4352.0     14614    394422       2017-10-12         2  14:53:00   \n",
       "3      4352.0    85014B    388633       2017-08-22         3  14:47:00   \n",
       "4      4352.0     15364    394422       2017-10-10         2  14:53:00   \n",
       "\n",
       "   price per Unit   Price Shipping Location  Cancelled_status  \\\n",
       "0           321.0  1926.0        Location 1               NaN   \n",
       "1           870.0  1740.0        Location 1               NaN   \n",
       "2           933.0  1866.0        Location 1               NaN   \n",
       "3           623.0  1869.0        Location 1               NaN   \n",
       "4           944.0  1888.0        Location 1               NaN   \n",
       "\n",
       "  Reason of return  Sold as set  \n",
       "0              NaN          NaN  \n",
       "1              NaN          NaN  \n",
       "2              NaN          NaN  \n",
       "3              NaN          NaN  \n",
       "4              NaN          NaN  "
      ]
     },
     "execution_count": 258,
     "metadata": {},
     "output_type": "execute_result"
    }
   ],
   "source": [
    "#import data from excel into python\n",
    "E_commerce = pd.read_excel(r'E:\\Project_Python\\Ecommerce Analytics\\E-com_data.xlsx')\n",
    "E_commerce.head()"
   ]
  },
  {
   "cell_type": "code",
   "execution_count": 259,
   "id": "f7918fba",
   "metadata": {},
   "outputs": [
    {
     "name": "stdout",
     "output_type": "stream",
     "text": [
      "<class 'pandas.core.frame.DataFrame'>\n",
      "RangeIndex: 537979 entries, 0 to 537978\n",
      "Data columns (total 12 columns):\n",
      " #   Column             Non-Null Count   Dtype         \n",
      "---  ------             --------------   -----         \n",
      " 0   CustomerID         404189 non-null  float64       \n",
      " 1   Item Code          537979 non-null  object        \n",
      " 2   InvoieNo           537979 non-null  int64         \n",
      " 3   Date of purchase   537979 non-null  datetime64[ns]\n",
      " 4   Quantity           537979 non-null  int64         \n",
      " 5   Time               537979 non-null  object        \n",
      " 6   price per Unit     537979 non-null  float64       \n",
      " 7   Price              537979 non-null  float64       \n",
      " 8   Shipping Location  537979 non-null  object        \n",
      " 9   Cancelled_status   8345 non-null    float64       \n",
      " 10  Reason of return   3 non-null       object        \n",
      " 11  Sold as set        0 non-null       float64       \n",
      "dtypes: datetime64[ns](1), float64(5), int64(2), object(4)\n",
      "memory usage: 49.3+ MB\n"
     ]
    }
   ],
   "source": [
    "E_commerce.info()"
   ]
  },
  {
   "cell_type": "code",
   "execution_count": 260,
   "id": "744b4bd3",
   "metadata": {},
   "outputs": [
    {
     "name": "stdout",
     "output_type": "stream",
     "text": [
      "        CustomerID Item Code  InvoieNo Date of purchase  Quantity  \\\n",
      "0           4355.0     15734    398177       2017-10-29         6   \n",
      "1           4352.0     14616    394422       2017-10-05         2   \n",
      "2           4352.0     14614    394422       2017-10-12         2   \n",
      "3           4352.0    85014B    388633       2017-08-22         3   \n",
      "4           4352.0     15364    394422       2017-10-10         2   \n",
      "...            ...       ...       ...              ...       ...   \n",
      "537974         NaN    85194L    372313       2017-03-23         6   \n",
      "537975         NaN     14693    367605       2017-02-06         2   \n",
      "537976         NaN     14693    368246       2017-02-06         3   \n",
      "537977         NaN    85194L    366891       2017-01-29        15   \n",
      "537978         NaN     14693    391243       2017-09-17        20   \n",
      "\n",
      "        price per Unit   Price  \n",
      "0                321.0  1926.0  \n",
      "1                870.0  1740.0  \n",
      "2                933.0  1866.0  \n",
      "3                623.0  1869.0  \n",
      "4                944.0  1888.0  \n",
      "...                ...     ...  \n",
      "537974           198.0  1188.0  \n",
      "537975           761.0  1522.0  \n",
      "537976           761.0  2283.0  \n",
      "537977           198.0  2970.0  \n",
      "537978           417.0  8340.0  \n",
      "\n",
      "[537979 rows x 7 columns]\n"
     ]
    }
   ],
   "source": [
    "#Feature Selection\n",
    "E_commerce_data = E_commerce[['CustomerID','Item Code','InvoieNo','Date of purchase','Quantity','price per Unit','Price']]\n",
    "print(E_commerce_data)"
   ]
  },
  {
   "cell_type": "code",
   "execution_count": 261,
   "id": "4d2abf84",
   "metadata": {},
   "outputs": [],
   "source": [
    "#ignore missing values w.r.t customer ID\n",
    "E_commerce_data = E_commerce_data[pd.notnull(E_commerce_data['CustomerID'])]"
   ]
  },
  {
   "cell_type": "code",
   "execution_count": 262,
   "id": "4e19dd52",
   "metadata": {},
   "outputs": [
    {
     "name": "stdout",
     "output_type": "stream",
     "text": [
      "        CustomerID Item Code  InvoiceNo Date of purchase  Quantity  \\\n",
      "0           4355.0     15734     398177       2017-10-29         6   \n",
      "1           4352.0     14616     394422       2017-10-05         2   \n",
      "2           4352.0     14614     394422       2017-10-12         2   \n",
      "3           4352.0    85014B     388633       2017-08-22         3   \n",
      "4           4352.0     15364     394422       2017-10-10         2   \n",
      "...            ...       ...        ...              ...       ...   \n",
      "537945        37.0     14693     402292       2017-11-28         1   \n",
      "537946        37.0     14693     402292       2017-11-27         1   \n",
      "537947        21.0     77618     363890       2016-12-21         8   \n",
      "537948        21.0    85194L     363890       2016-12-21        36   \n",
      "537949        21.0     14693     363890       2016-12-17        13   \n",
      "\n",
      "        price per Unit   Price  \n",
      "0                321.0  1926.0  \n",
      "1                870.0  1740.0  \n",
      "2                933.0  1866.0  \n",
      "3                623.0  1869.0  \n",
      "4                944.0  1888.0  \n",
      "...                ...     ...  \n",
      "537945           384.0   384.0  \n",
      "537946           398.0   398.0  \n",
      "537947           308.0  2464.0  \n",
      "537948           113.0  4068.0  \n",
      "537949           380.0  4940.0  \n",
      "\n",
      "[404189 rows x 7 columns]\n"
     ]
    }
   ],
   "source": [
    "#Rename misspelled column heading\n",
    "E_commerce_data.rename(columns = {'InvoieNo':'InvoiceNo'}, inplace = True)\n",
    "print(E_commerce_data)"
   ]
  },
  {
   "cell_type": "code",
   "execution_count": 263,
   "id": "b9ab4b5c",
   "metadata": {},
   "outputs": [
    {
     "name": "stdout",
     "output_type": "stream",
     "text": [
      "(404189, 7)\n"
     ]
    }
   ],
   "source": [
    "print(E_commerce_data.shape)"
   ]
  },
  {
   "cell_type": "code",
   "execution_count": 264,
   "id": "13ed8f22",
   "metadata": {},
   "outputs": [
    {
     "data": {
      "text/html": [
       "<div>\n",
       "<style scoped>\n",
       "    .dataframe tbody tr th:only-of-type {\n",
       "        vertical-align: middle;\n",
       "    }\n",
       "\n",
       "    .dataframe tbody tr th {\n",
       "        vertical-align: top;\n",
       "    }\n",
       "\n",
       "    .dataframe thead th {\n",
       "        text-align: right;\n",
       "    }\n",
       "</style>\n",
       "<table border=\"1\" class=\"dataframe\">\n",
       "  <thead>\n",
       "    <tr style=\"text-align: right;\">\n",
       "      <th></th>\n",
       "      <th>CustomerID</th>\n",
       "      <th>Item Code</th>\n",
       "      <th>InvoiceNo</th>\n",
       "      <th>Date of purchase</th>\n",
       "      <th>Quantity</th>\n",
       "      <th>price per Unit</th>\n",
       "      <th>Price</th>\n",
       "    </tr>\n",
       "  </thead>\n",
       "  <tbody>\n",
       "    <tr>\n",
       "      <th>count</th>\n",
       "      <td>404189.000000</td>\n",
       "      <td>404189</td>\n",
       "      <td>404189.000000</td>\n",
       "      <td>404189</td>\n",
       "      <td>404189.000000</td>\n",
       "      <td>404189.000000</td>\n",
       "      <td>404189.000000</td>\n",
       "    </tr>\n",
       "    <tr>\n",
       "      <th>unique</th>\n",
       "      <td>NaN</td>\n",
       "      <td>3659</td>\n",
       "      <td>NaN</td>\n",
       "      <td>381</td>\n",
       "      <td>NaN</td>\n",
       "      <td>NaN</td>\n",
       "      <td>NaN</td>\n",
       "    </tr>\n",
       "    <tr>\n",
       "      <th>top</th>\n",
       "      <td>NaN</td>\n",
       "      <td>85123A</td>\n",
       "      <td>NaN</td>\n",
       "      <td>2017-11-24 00:00:00</td>\n",
       "      <td>NaN</td>\n",
       "      <td>NaN</td>\n",
       "      <td>NaN</td>\n",
       "    </tr>\n",
       "    <tr>\n",
       "      <th>freq</th>\n",
       "      <td>NaN</td>\n",
       "      <td>2064</td>\n",
       "      <td>NaN</td>\n",
       "      <td>2522</td>\n",
       "      <td>NaN</td>\n",
       "      <td>NaN</td>\n",
       "      <td>NaN</td>\n",
       "    </tr>\n",
       "    <tr>\n",
       "      <th>first</th>\n",
       "      <td>NaN</td>\n",
       "      <td>NaN</td>\n",
       "      <td>NaN</td>\n",
       "      <td>2016-12-02 00:00:00</td>\n",
       "      <td>NaN</td>\n",
       "      <td>NaN</td>\n",
       "      <td>NaN</td>\n",
       "    </tr>\n",
       "    <tr>\n",
       "      <th>last</th>\n",
       "      <td>NaN</td>\n",
       "      <td>NaN</td>\n",
       "      <td>NaN</td>\n",
       "      <td>2017-12-19 00:00:00</td>\n",
       "      <td>NaN</td>\n",
       "      <td>NaN</td>\n",
       "      <td>NaN</td>\n",
       "    </tr>\n",
       "    <tr>\n",
       "      <th>mean</th>\n",
       "      <td>2181.909035</td>\n",
       "      <td>NaN</td>\n",
       "      <td>385648.404551</td>\n",
       "      <td>NaN</td>\n",
       "      <td>11.478576</td>\n",
       "      <td>341.448120</td>\n",
       "      <td>2474.108531</td>\n",
       "    </tr>\n",
       "    <tr>\n",
       "      <th>std</th>\n",
       "      <td>1252.681881</td>\n",
       "      <td>NaN</td>\n",
       "      <td>13107.422150</td>\n",
       "      <td>NaN</td>\n",
       "      <td>29.489655</td>\n",
       "      <td>427.238546</td>\n",
       "      <td>4891.346420</td>\n",
       "    </tr>\n",
       "    <tr>\n",
       "      <th>min</th>\n",
       "      <td>2.000000</td>\n",
       "      <td>NaN</td>\n",
       "      <td>361429.000000</td>\n",
       "      <td>NaN</td>\n",
       "      <td>-152.000000</td>\n",
       "      <td>2.000000</td>\n",
       "      <td>-10152.000000</td>\n",
       "    </tr>\n",
       "    <tr>\n",
       "      <th>25%</th>\n",
       "      <td>1207.000000</td>\n",
       "      <td>NaN</td>\n",
       "      <td>374194.000000</td>\n",
       "      <td>NaN</td>\n",
       "      <td>2.000000</td>\n",
       "      <td>158.000000</td>\n",
       "      <td>555.000000</td>\n",
       "    </tr>\n",
       "    <tr>\n",
       "      <th>50%</th>\n",
       "      <td>2078.000000</td>\n",
       "      <td>NaN</td>\n",
       "      <td>386937.000000</td>\n",
       "      <td>NaN</td>\n",
       "      <td>5.000000</td>\n",
       "      <td>238.000000</td>\n",
       "      <td>1572.000000</td>\n",
       "    </tr>\n",
       "    <tr>\n",
       "      <th>75%</th>\n",
       "      <td>3291.000000</td>\n",
       "      <td>NaN</td>\n",
       "      <td>397130.000000</td>\n",
       "      <td>NaN</td>\n",
       "      <td>12.000000</td>\n",
       "      <td>407.000000</td>\n",
       "      <td>2492.000000</td>\n",
       "    </tr>\n",
       "    <tr>\n",
       "      <th>max</th>\n",
       "      <td>4372.000000</td>\n",
       "      <td>NaN</td>\n",
       "      <td>406651.000000</td>\n",
       "      <td>NaN</td>\n",
       "      <td>3186.000000</td>\n",
       "      <td>64973.000000</td>\n",
       "      <td>90400.000000</td>\n",
       "    </tr>\n",
       "  </tbody>\n",
       "</table>\n",
       "</div>"
      ],
      "text/plain": [
       "           CustomerID Item Code      InvoiceNo     Date of purchase  \\\n",
       "count   404189.000000    404189  404189.000000               404189   \n",
       "unique            NaN      3659            NaN                  381   \n",
       "top               NaN    85123A            NaN  2017-11-24 00:00:00   \n",
       "freq              NaN      2064            NaN                 2522   \n",
       "first             NaN       NaN            NaN  2016-12-02 00:00:00   \n",
       "last              NaN       NaN            NaN  2017-12-19 00:00:00   \n",
       "mean      2181.909035       NaN  385648.404551                  NaN   \n",
       "std       1252.681881       NaN   13107.422150                  NaN   \n",
       "min          2.000000       NaN  361429.000000                  NaN   \n",
       "25%       1207.000000       NaN  374194.000000                  NaN   \n",
       "50%       2078.000000       NaN  386937.000000                  NaN   \n",
       "75%       3291.000000       NaN  397130.000000                  NaN   \n",
       "max       4372.000000       NaN  406651.000000                  NaN   \n",
       "\n",
       "             Quantity  price per Unit          Price  \n",
       "count   404189.000000   404189.000000  404189.000000  \n",
       "unique            NaN             NaN            NaN  \n",
       "top               NaN             NaN            NaN  \n",
       "freq              NaN             NaN            NaN  \n",
       "first             NaN             NaN            NaN  \n",
       "last              NaN             NaN            NaN  \n",
       "mean        11.478576      341.448120    2474.108531  \n",
       "std         29.489655      427.238546    4891.346420  \n",
       "min       -152.000000        2.000000  -10152.000000  \n",
       "25%          2.000000      158.000000     555.000000  \n",
       "50%          5.000000      238.000000    1572.000000  \n",
       "75%         12.000000      407.000000    2492.000000  \n",
       "max       3186.000000    64973.000000   90400.000000  "
      ]
     },
     "execution_count": 264,
     "metadata": {},
     "output_type": "execute_result"
    }
   ],
   "source": [
    "E_commerce_data.describe(include=\"all\")"
   ]
  },
  {
   "cell_type": "code",
   "execution_count": 265,
   "id": "8cde34f9",
   "metadata": {},
   "outputs": [],
   "source": [
    "#Hide warning \n",
    "import warnings\n",
    "warnings.filterwarnings('ignore')"
   ]
  },
  {
   "cell_type": "code",
   "execution_count": 266,
   "id": "a2fbca3a",
   "metadata": {},
   "outputs": [
    {
     "name": "stdout",
     "output_type": "stream",
     "text": [
      "CustomerID          0\n",
      "Item Code           0\n",
      "InvoiceNo           0\n",
      "Date of purchase    0\n",
      "Quantity            0\n",
      "price per Unit      0\n",
      "Price               0\n",
      "dtype: int64\n"
     ]
    }
   ],
   "source": [
    "#Finding Missing Values\n",
    "print(E_commerce_data.isnull().sum())"
   ]
  },
  {
   "cell_type": "code",
   "execution_count": 267,
   "id": "428f5669",
   "metadata": {},
   "outputs": [
    {
     "data": {
      "text/plain": [
       "8"
      ]
     },
     "execution_count": 267,
     "metadata": {},
     "output_type": "execute_result"
    }
   ],
   "source": [
    "E_commerce_data.duplicated().sum()"
   ]
  },
  {
   "cell_type": "code",
   "execution_count": 268,
   "id": "cd292464",
   "metadata": {},
   "outputs": [],
   "source": [
    "E_commerce_data = E_commerce_data.drop_duplicates()"
   ]
  },
  {
   "cell_type": "code",
   "execution_count": 269,
   "id": "8e967e73",
   "metadata": {},
   "outputs": [
    {
     "name": "stdout",
     "output_type": "stream",
     "text": [
      "(404181, 7)\n"
     ]
    }
   ],
   "source": [
    "print(E_commerce_data.shape)"
   ]
  },
  {
   "cell_type": "code",
   "execution_count": 270,
   "id": "21fa44fe",
   "metadata": {},
   "outputs": [],
   "source": [
    "negatives = len(E_commerce_data[(E_commerce_data.Price < 0)])"
   ]
  },
  {
   "cell_type": "code",
   "execution_count": 271,
   "id": "54696cec",
   "metadata": {},
   "outputs": [
    {
     "name": "stdout",
     "output_type": "stream",
     "text": [
      "8183\n"
     ]
    }
   ],
   "source": [
    "print(negatives)"
   ]
  },
  {
   "cell_type": "code",
   "execution_count": 272,
   "id": "ac08945f",
   "metadata": {},
   "outputs": [],
   "source": [
    "#To drop negative values.\n",
    "E_commerce_data = E_commerce_data[~(E_commerce_data.Price<0)]"
   ]
  },
  {
   "cell_type": "code",
   "execution_count": 273,
   "id": "33cfc8e9",
   "metadata": {},
   "outputs": [
    {
     "data": {
      "text/html": [
       "<div>\n",
       "<style scoped>\n",
       "    .dataframe tbody tr th:only-of-type {\n",
       "        vertical-align: middle;\n",
       "    }\n",
       "\n",
       "    .dataframe tbody tr th {\n",
       "        vertical-align: top;\n",
       "    }\n",
       "\n",
       "    .dataframe thead th {\n",
       "        text-align: right;\n",
       "    }\n",
       "</style>\n",
       "<table border=\"1\" class=\"dataframe\">\n",
       "  <thead>\n",
       "    <tr style=\"text-align: right;\">\n",
       "      <th></th>\n",
       "      <th>CustomerID</th>\n",
       "      <th>Item Code</th>\n",
       "      <th>InvoiceNo</th>\n",
       "      <th>Date of purchase</th>\n",
       "      <th>Quantity</th>\n",
       "      <th>price per Unit</th>\n",
       "      <th>Price</th>\n",
       "    </tr>\n",
       "  </thead>\n",
       "  <tbody>\n",
       "    <tr>\n",
       "      <th>count</th>\n",
       "      <td>395998.000000</td>\n",
       "      <td>395998</td>\n",
       "      <td>395998.000000</td>\n",
       "      <td>395998</td>\n",
       "      <td>395998.000000</td>\n",
       "      <td>395998.000000</td>\n",
       "      <td>395998.000000</td>\n",
       "    </tr>\n",
       "    <tr>\n",
       "      <th>unique</th>\n",
       "      <td>NaN</td>\n",
       "      <td>3637</td>\n",
       "      <td>NaN</td>\n",
       "      <td>381</td>\n",
       "      <td>NaN</td>\n",
       "      <td>NaN</td>\n",
       "      <td>NaN</td>\n",
       "    </tr>\n",
       "    <tr>\n",
       "      <th>top</th>\n",
       "      <td>NaN</td>\n",
       "      <td>85123A</td>\n",
       "      <td>NaN</td>\n",
       "      <td>2017-11-24 00:00:00</td>\n",
       "      <td>NaN</td>\n",
       "      <td>NaN</td>\n",
       "      <td>NaN</td>\n",
       "    </tr>\n",
       "    <tr>\n",
       "      <th>freq</th>\n",
       "      <td>NaN</td>\n",
       "      <td>2024</td>\n",
       "      <td>NaN</td>\n",
       "      <td>2485</td>\n",
       "      <td>NaN</td>\n",
       "      <td>NaN</td>\n",
       "      <td>NaN</td>\n",
       "    </tr>\n",
       "    <tr>\n",
       "      <th>first</th>\n",
       "      <td>NaN</td>\n",
       "      <td>NaN</td>\n",
       "      <td>NaN</td>\n",
       "      <td>2016-12-02 00:00:00</td>\n",
       "      <td>NaN</td>\n",
       "      <td>NaN</td>\n",
       "      <td>NaN</td>\n",
       "    </tr>\n",
       "    <tr>\n",
       "      <th>last</th>\n",
       "      <td>NaN</td>\n",
       "      <td>NaN</td>\n",
       "      <td>NaN</td>\n",
       "      <td>2017-12-19 00:00:00</td>\n",
       "      <td>NaN</td>\n",
       "      <td>NaN</td>\n",
       "      <td>NaN</td>\n",
       "    </tr>\n",
       "    <tr>\n",
       "      <th>mean</th>\n",
       "      <td>2186.423482</td>\n",
       "      <td>NaN</td>\n",
       "      <td>385683.406209</td>\n",
       "      <td>NaN</td>\n",
       "      <td>11.822648</td>\n",
       "      <td>338.627140</td>\n",
       "      <td>2554.930656</td>\n",
       "    </tr>\n",
       "    <tr>\n",
       "      <th>std</th>\n",
       "      <td>1252.325963</td>\n",
       "      <td>NaN</td>\n",
       "      <td>13107.505659</td>\n",
       "      <td>NaN</td>\n",
       "      <td>29.667004</td>\n",
       "      <td>424.303919</td>\n",
       "      <td>4903.426736</td>\n",
       "    </tr>\n",
       "    <tr>\n",
       "      <th>min</th>\n",
       "      <td>2.000000</td>\n",
       "      <td>NaN</td>\n",
       "      <td>361429.000000</td>\n",
       "      <td>NaN</td>\n",
       "      <td>1.000000</td>\n",
       "      <td>2.000000</td>\n",
       "      <td>12.000000</td>\n",
       "    </tr>\n",
       "    <tr>\n",
       "      <th>25%</th>\n",
       "      <td>1212.000000</td>\n",
       "      <td>NaN</td>\n",
       "      <td>374298.000000</td>\n",
       "      <td>NaN</td>\n",
       "      <td>2.000000</td>\n",
       "      <td>157.000000</td>\n",
       "      <td>598.000000</td>\n",
       "    </tr>\n",
       "    <tr>\n",
       "      <th>50%</th>\n",
       "      <td>2080.000000</td>\n",
       "      <td>NaN</td>\n",
       "      <td>386957.000000</td>\n",
       "      <td>NaN</td>\n",
       "      <td>6.000000</td>\n",
       "      <td>237.000000</td>\n",
       "      <td>1608.000000</td>\n",
       "    </tr>\n",
       "    <tr>\n",
       "      <th>75%</th>\n",
       "      <td>3294.000000</td>\n",
       "      <td>NaN</td>\n",
       "      <td>397157.000000</td>\n",
       "      <td>NaN</td>\n",
       "      <td>12.000000</td>\n",
       "      <td>403.000000</td>\n",
       "      <td>2520.000000</td>\n",
       "    </tr>\n",
       "    <tr>\n",
       "      <th>max</th>\n",
       "      <td>4372.000000</td>\n",
       "      <td>NaN</td>\n",
       "      <td>406651.000000</td>\n",
       "      <td>NaN</td>\n",
       "      <td>3186.000000</td>\n",
       "      <td>64973.000000</td>\n",
       "      <td>90400.000000</td>\n",
       "    </tr>\n",
       "  </tbody>\n",
       "</table>\n",
       "</div>"
      ],
      "text/plain": [
       "           CustomerID Item Code      InvoiceNo     Date of purchase  \\\n",
       "count   395998.000000    395998  395998.000000               395998   \n",
       "unique            NaN      3637            NaN                  381   \n",
       "top               NaN    85123A            NaN  2017-11-24 00:00:00   \n",
       "freq              NaN      2024            NaN                 2485   \n",
       "first             NaN       NaN            NaN  2016-12-02 00:00:00   \n",
       "last              NaN       NaN            NaN  2017-12-19 00:00:00   \n",
       "mean      2186.423482       NaN  385683.406209                  NaN   \n",
       "std       1252.325963       NaN   13107.505659                  NaN   \n",
       "min          2.000000       NaN  361429.000000                  NaN   \n",
       "25%       1212.000000       NaN  374298.000000                  NaN   \n",
       "50%       2080.000000       NaN  386957.000000                  NaN   \n",
       "75%       3294.000000       NaN  397157.000000                  NaN   \n",
       "max       4372.000000       NaN  406651.000000                  NaN   \n",
       "\n",
       "             Quantity  price per Unit          Price  \n",
       "count   395998.000000   395998.000000  395998.000000  \n",
       "unique            NaN             NaN            NaN  \n",
       "top               NaN             NaN            NaN  \n",
       "freq              NaN             NaN            NaN  \n",
       "first             NaN             NaN            NaN  \n",
       "last              NaN             NaN            NaN  \n",
       "mean        11.822648      338.627140    2554.930656  \n",
       "std         29.667004      424.303919    4903.426736  \n",
       "min          1.000000        2.000000      12.000000  \n",
       "25%          2.000000      157.000000     598.000000  \n",
       "50%          6.000000      237.000000    1608.000000  \n",
       "75%         12.000000      403.000000    2520.000000  \n",
       "max       3186.000000    64973.000000   90400.000000  "
      ]
     },
     "execution_count": 273,
     "metadata": {},
     "output_type": "execute_result"
    }
   ],
   "source": [
    "E_commerce_data.describe(include=\"all\")"
   ]
  },
  {
   "cell_type": "code",
   "execution_count": 274,
   "id": "e59c26c9",
   "metadata": {},
   "outputs": [
    {
     "data": {
      "text/plain": [
       "(Timestamp('2017-12-19 00:00:00'), Timestamp('2016-12-02 00:00:00'))"
      ]
     },
     "execution_count": 274,
     "metadata": {},
     "output_type": "execute_result"
    }
   ],
   "source": [
    "#To find latest and oldest date\n",
    "E_commerce_data[\"Date of purchase\"].max(),E_commerce_data[\"Date of purchase\"].min()"
   ]
  },
  {
   "cell_type": "code",
   "execution_count": 275,
   "id": "cd61ea83",
   "metadata": {},
   "outputs": [
    {
     "name": "stdout",
     "output_type": "stream",
     "text": [
      "Number of Unique customers: 4324\n",
      "Number of Unique Invoices: 18305\n"
     ]
    }
   ],
   "source": [
    "print(\"Number of Unique customers:\", E_commerce_data['CustomerID'].nunique())\n",
    "print(\"Number of Unique Invoices:\", E_commerce_data['InvoiceNo'].nunique())"
   ]
  },
  {
   "cell_type": "code",
   "execution_count": 276,
   "id": "8de56349",
   "metadata": {},
   "outputs": [
    {
     "data": {
      "text/html": [
       "<div>\n",
       "<style scoped>\n",
       "    .dataframe tbody tr th:only-of-type {\n",
       "        vertical-align: middle;\n",
       "    }\n",
       "\n",
       "    .dataframe tbody tr th {\n",
       "        vertical-align: top;\n",
       "    }\n",
       "\n",
       "    .dataframe thead th {\n",
       "        text-align: right;\n",
       "    }\n",
       "</style>\n",
       "<table border=\"1\" class=\"dataframe\">\n",
       "  <thead>\n",
       "    <tr style=\"text-align: right;\">\n",
       "      <th></th>\n",
       "      <th>CustomerID</th>\n",
       "      <th>LatestPurchase</th>\n",
       "      <th>Recency</th>\n",
       "    </tr>\n",
       "  </thead>\n",
       "  <tbody>\n",
       "    <tr>\n",
       "      <th>0</th>\n",
       "      <td>2.0</td>\n",
       "      <td>2017-12-16</td>\n",
       "      <td>4</td>\n",
       "    </tr>\n",
       "    <tr>\n",
       "      <th>1</th>\n",
       "      <td>3.0</td>\n",
       "      <td>2017-10-04</td>\n",
       "      <td>77</td>\n",
       "    </tr>\n",
       "    <tr>\n",
       "      <th>2</th>\n",
       "      <td>4.0</td>\n",
       "      <td>2017-12-01</td>\n",
       "      <td>19</td>\n",
       "    </tr>\n",
       "    <tr>\n",
       "      <th>3</th>\n",
       "      <td>5.0</td>\n",
       "      <td>2017-02-12</td>\n",
       "      <td>311</td>\n",
       "    </tr>\n",
       "    <tr>\n",
       "      <th>4</th>\n",
       "      <td>6.0</td>\n",
       "      <td>2017-11-13</td>\n",
       "      <td>37</td>\n",
       "    </tr>\n",
       "  </tbody>\n",
       "</table>\n",
       "</div>"
      ],
      "text/plain": [
       "   CustomerID LatestPurchase  Recency\n",
       "0         2.0     2017-12-16        4\n",
       "1         3.0     2017-10-04       77\n",
       "2         4.0     2017-12-01       19\n",
       "3         5.0     2017-02-12      311\n",
       "4         6.0     2017-11-13       37"
      ]
     },
     "execution_count": 276,
     "metadata": {},
     "output_type": "execute_result"
    }
   ],
   "source": [
    "#To find Recency\n",
    "Data_Recency = E_commerce_data.groupby(by='CustomerID',\n",
    "                        as_index=False)['Date of purchase'].max()\n",
    "Data_Recency.columns = ['CustomerID', 'LatestPurchase']\n",
    "recent_date = dt.datetime(2017,12,20)\n",
    "Data_Recency['Recency'] = Data_Recency['LatestPurchase'].apply(\n",
    "    lambda x: (recent_date - x).days)\n",
    "Data_Recency.head()"
   ]
  },
  {
   "cell_type": "code",
   "execution_count": 277,
   "id": "6c1965ca",
   "metadata": {},
   "outputs": [
    {
     "data": {
      "text/html": [
       "<div>\n",
       "<style scoped>\n",
       "    .dataframe tbody tr th:only-of-type {\n",
       "        vertical-align: middle;\n",
       "    }\n",
       "\n",
       "    .dataframe tbody tr th {\n",
       "        vertical-align: top;\n",
       "    }\n",
       "\n",
       "    .dataframe thead th {\n",
       "        text-align: right;\n",
       "    }\n",
       "</style>\n",
       "<table border=\"1\" class=\"dataframe\">\n",
       "  <thead>\n",
       "    <tr style=\"text-align: right;\">\n",
       "      <th></th>\n",
       "      <th>CustomerID</th>\n",
       "      <th>Frequency</th>\n",
       "    </tr>\n",
       "  </thead>\n",
       "  <tbody>\n",
       "    <tr>\n",
       "      <th>0</th>\n",
       "      <td>2.0</td>\n",
       "      <td>7</td>\n",
       "    </tr>\n",
       "    <tr>\n",
       "      <th>1</th>\n",
       "      <td>3.0</td>\n",
       "      <td>4</td>\n",
       "    </tr>\n",
       "    <tr>\n",
       "      <th>2</th>\n",
       "      <td>4.0</td>\n",
       "      <td>1</td>\n",
       "    </tr>\n",
       "    <tr>\n",
       "      <th>3</th>\n",
       "      <td>5.0</td>\n",
       "      <td>1</td>\n",
       "    </tr>\n",
       "    <tr>\n",
       "      <th>4</th>\n",
       "      <td>6.0</td>\n",
       "      <td>7</td>\n",
       "    </tr>\n",
       "  </tbody>\n",
       "</table>\n",
       "</div>"
      ],
      "text/plain": [
       "   CustomerID  Frequency\n",
       "0         2.0          7\n",
       "1         3.0          4\n",
       "2         4.0          1\n",
       "3         5.0          1\n",
       "4         6.0          7"
      ]
     },
     "execution_count": 277,
     "metadata": {},
     "output_type": "execute_result"
    }
   ],
   "source": [
    "#To find Frequency\n",
    "Data_Frequency =  E_commerce_data.groupby(by=['CustomerID'], \n",
    "                           as_index=False)['InvoiceNo'].nunique()\n",
    "Data_Frequency.columns = ['CustomerID', 'Frequency']\n",
    "Data_Frequency.head()"
   ]
  },
  {
   "cell_type": "code",
   "execution_count": 278,
   "id": "6500d83c",
   "metadata": {},
   "outputs": [
    {
     "data": {
      "text/html": [
       "<div>\n",
       "<style scoped>\n",
       "    .dataframe tbody tr th:only-of-type {\n",
       "        vertical-align: middle;\n",
       "    }\n",
       "\n",
       "    .dataframe tbody tr th {\n",
       "        vertical-align: top;\n",
       "    }\n",
       "\n",
       "    .dataframe thead th {\n",
       "        text-align: right;\n",
       "    }\n",
       "</style>\n",
       "<table border=\"1\" class=\"dataframe\">\n",
       "  <thead>\n",
       "    <tr style=\"text-align: right;\">\n",
       "      <th></th>\n",
       "      <th>CustomerID</th>\n",
       "      <th>Monetary_Value</th>\n",
       "    </tr>\n",
       "  </thead>\n",
       "  <tbody>\n",
       "    <tr>\n",
       "      <th>0</th>\n",
       "      <td>2.0</td>\n",
       "      <td>553704.0</td>\n",
       "    </tr>\n",
       "    <tr>\n",
       "      <th>1</th>\n",
       "      <td>3.0</td>\n",
       "      <td>257404.0</td>\n",
       "    </tr>\n",
       "    <tr>\n",
       "      <th>2</th>\n",
       "      <td>4.0</td>\n",
       "      <td>176613.0</td>\n",
       "    </tr>\n",
       "    <tr>\n",
       "      <th>3</th>\n",
       "      <td>5.0</td>\n",
       "      <td>41976.0</td>\n",
       "    </tr>\n",
       "    <tr>\n",
       "      <th>4</th>\n",
       "      <td>6.0</td>\n",
       "      <td>166972.0</td>\n",
       "    </tr>\n",
       "  </tbody>\n",
       "</table>\n",
       "</div>"
      ],
      "text/plain": [
       "   CustomerID  Monetary_Value\n",
       "0         2.0        553704.0\n",
       "1         3.0        257404.0\n",
       "2         4.0        176613.0\n",
       "3         5.0         41976.0\n",
       "4         6.0        166972.0"
      ]
     },
     "execution_count": 278,
     "metadata": {},
     "output_type": "execute_result"
    }
   ],
   "source": [
    "#To find Monetary Value\n",
    "Data_MonetaryValue = E_commerce_data.groupby(by='CustomerID', as_index=False)['Price'].sum()\n",
    "Data_MonetaryValue.columns = ['CustomerID', 'Monetary_Value']\n",
    "Data_MonetaryValue.head()"
   ]
  },
  {
   "cell_type": "code",
   "execution_count": 279,
   "id": "f2e69f92",
   "metadata": {},
   "outputs": [
    {
     "data": {
      "text/html": [
       "<div>\n",
       "<style scoped>\n",
       "    .dataframe tbody tr th:only-of-type {\n",
       "        vertical-align: middle;\n",
       "    }\n",
       "\n",
       "    .dataframe tbody tr th {\n",
       "        vertical-align: top;\n",
       "    }\n",
       "\n",
       "    .dataframe thead th {\n",
       "        text-align: right;\n",
       "    }\n",
       "</style>\n",
       "<table border=\"1\" class=\"dataframe\">\n",
       "  <thead>\n",
       "    <tr style=\"text-align: right;\">\n",
       "      <th></th>\n",
       "      <th>CustomerID</th>\n",
       "      <th>Recency</th>\n",
       "      <th>Frequency</th>\n",
       "      <th>Monetary_Value</th>\n",
       "    </tr>\n",
       "  </thead>\n",
       "  <tbody>\n",
       "    <tr>\n",
       "      <th>0</th>\n",
       "      <td>2.0</td>\n",
       "      <td>4</td>\n",
       "      <td>7</td>\n",
       "      <td>553704.0</td>\n",
       "    </tr>\n",
       "    <tr>\n",
       "      <th>1</th>\n",
       "      <td>3.0</td>\n",
       "      <td>77</td>\n",
       "      <td>4</td>\n",
       "      <td>257404.0</td>\n",
       "    </tr>\n",
       "    <tr>\n",
       "      <th>2</th>\n",
       "      <td>4.0</td>\n",
       "      <td>19</td>\n",
       "      <td>1</td>\n",
       "      <td>176613.0</td>\n",
       "    </tr>\n",
       "    <tr>\n",
       "      <th>3</th>\n",
       "      <td>5.0</td>\n",
       "      <td>311</td>\n",
       "      <td>1</td>\n",
       "      <td>41976.0</td>\n",
       "    </tr>\n",
       "    <tr>\n",
       "      <th>4</th>\n",
       "      <td>6.0</td>\n",
       "      <td>37</td>\n",
       "      <td>7</td>\n",
       "      <td>166972.0</td>\n",
       "    </tr>\n",
       "  </tbody>\n",
       "</table>\n",
       "</div>"
      ],
      "text/plain": [
       "   CustomerID  Recency  Frequency  Monetary_Value\n",
       "0         2.0        4          7        553704.0\n",
       "1         3.0       77          4        257404.0\n",
       "2         4.0       19          1        176613.0\n",
       "3         5.0      311          1         41976.0\n",
       "4         6.0       37          7        166972.0"
      ]
     },
     "execution_count": 279,
     "metadata": {},
     "output_type": "execute_result"
    }
   ],
   "source": [
    "#Merging all three columns in one dataframe\n",
    "RF = Data_Recency.merge(Data_Frequency, on='CustomerID')\n",
    "RFM = RF.merge(Data_MonetaryValue, on='CustomerID').drop(columns = 'LatestPurchase') #Drop unnecessary column\n",
    "RFM.head()"
   ]
  },
  {
   "cell_type": "code",
   "execution_count": 280,
   "id": "60eaa78b",
   "metadata": {},
   "outputs": [
    {
     "data": {
      "text/plain": [
       "<AxesSubplot:xlabel='Monetary_Value', ylabel='Density'>"
      ]
     },
     "execution_count": 280,
     "metadata": {},
     "output_type": "execute_result"
    },
    {
     "data": {
      "image/png": "[encoded data removed]",
      "text/plain": [
       "<Figure size 720x288 with 3 Axes>"
      ]
     },
     "metadata": {},
     "output_type": "display_data"
    }
   ],
   "source": [
    "import matplotlib.pyplot as plt \n",
    "import seaborn as sns\n",
    "plt.figure(figsize=(10,4))\n",
    "\n",
    "plt.subplot(3, 1, 1); sns.distplot(RFM['Recency'])\n",
    "plt.subplot(3, 1, 2); sns.distplot(RFM['Frequency'])\n",
    "plt.subplot(3, 1, 3); sns.distplot(RFM['Monetary_Value'])"
   ]
  },
  {
   "cell_type": "code",
   "execution_count": 281,
   "id": "e0a92523",
   "metadata": {},
   "outputs": [
    {
     "data": {
      "text/html": [
       "<div>\n",
       "<style scoped>\n",
       "    .dataframe tbody tr th:only-of-type {\n",
       "        vertical-align: middle;\n",
       "    }\n",
       "\n",
       "    .dataframe tbody tr th {\n",
       "        vertical-align: top;\n",
       "    }\n",
       "\n",
       "    .dataframe thead th {\n",
       "        text-align: right;\n",
       "    }\n",
       "</style>\n",
       "<table border=\"1\" class=\"dataframe\">\n",
       "  <thead>\n",
       "    <tr style=\"text-align: right;\">\n",
       "      <th></th>\n",
       "      <th>index</th>\n",
       "      <th>CustomerID</th>\n",
       "      <th>Recency</th>\n",
       "      <th>Frequency</th>\n",
       "      <th>Monetary_Value</th>\n",
       "    </tr>\n",
       "  </thead>\n",
       "  <tbody>\n",
       "    <tr>\n",
       "      <th>0</th>\n",
       "      <td>0</td>\n",
       "      <td>2.0</td>\n",
       "      <td>4</td>\n",
       "      <td>7</td>\n",
       "      <td>553704.0</td>\n",
       "    </tr>\n",
       "    <tr>\n",
       "      <th>1</th>\n",
       "      <td>1</td>\n",
       "      <td>3.0</td>\n",
       "      <td>77</td>\n",
       "      <td>4</td>\n",
       "      <td>257404.0</td>\n",
       "    </tr>\n",
       "    <tr>\n",
       "      <th>2</th>\n",
       "      <td>2</td>\n",
       "      <td>4.0</td>\n",
       "      <td>19</td>\n",
       "      <td>1</td>\n",
       "      <td>176613.0</td>\n",
       "    </tr>\n",
       "    <tr>\n",
       "      <th>3</th>\n",
       "      <td>3</td>\n",
       "      <td>5.0</td>\n",
       "      <td>311</td>\n",
       "      <td>1</td>\n",
       "      <td>41976.0</td>\n",
       "    </tr>\n",
       "    <tr>\n",
       "      <th>4</th>\n",
       "      <td>4</td>\n",
       "      <td>6.0</td>\n",
       "      <td>37</td>\n",
       "      <td>7</td>\n",
       "      <td>166972.0</td>\n",
       "    </tr>\n",
       "    <tr>\n",
       "      <th>...</th>\n",
       "      <td>...</td>\n",
       "      <td>...</td>\n",
       "      <td>...</td>\n",
       "      <td>...</td>\n",
       "      <td>...</td>\n",
       "    </tr>\n",
       "    <tr>\n",
       "      <th>4319</th>\n",
       "      <td>4319</td>\n",
       "      <td>4368.0</td>\n",
       "      <td>278</td>\n",
       "      <td>1</td>\n",
       "      <td>20480.0</td>\n",
       "    </tr>\n",
       "    <tr>\n",
       "      <th>4320</th>\n",
       "      <td>4320</td>\n",
       "      <td>4369.0</td>\n",
       "      <td>181</td>\n",
       "      <td>1</td>\n",
       "      <td>10774.0</td>\n",
       "    </tr>\n",
       "    <tr>\n",
       "      <th>4321</th>\n",
       "      <td>4321</td>\n",
       "      <td>4370.0</td>\n",
       "      <td>9</td>\n",
       "      <td>2</td>\n",
       "      <td>25177.0</td>\n",
       "    </tr>\n",
       "    <tr>\n",
       "      <th>4322</th>\n",
       "      <td>4322</td>\n",
       "      <td>4371.0</td>\n",
       "      <td>4</td>\n",
       "      <td>16</td>\n",
       "      <td>280608.0</td>\n",
       "    </tr>\n",
       "    <tr>\n",
       "      <th>4323</th>\n",
       "      <td>4323</td>\n",
       "      <td>4372.0</td>\n",
       "      <td>44</td>\n",
       "      <td>3</td>\n",
       "      <td>262820.0</td>\n",
       "    </tr>\n",
       "  </tbody>\n",
       "</table>\n",
       "<p>4324 rows × 5 columns</p>\n",
       "</div>"
      ],
      "text/plain": [
       "      index  CustomerID  Recency  Frequency  Monetary_Value\n",
       "0         0         2.0        4          7        553704.0\n",
       "1         1         3.0       77          4        257404.0\n",
       "2         2         4.0       19          1        176613.0\n",
       "3         3         5.0      311          1         41976.0\n",
       "4         4         6.0       37          7        166972.0\n",
       "...     ...         ...      ...        ...             ...\n",
       "4319   4319      4368.0      278          1         20480.0\n",
       "4320   4320      4369.0      181          1         10774.0\n",
       "4321   4321      4370.0        9          2         25177.0\n",
       "4322   4322      4371.0        4         16        280608.0\n",
       "4323   4323      4372.0       44          3        262820.0\n",
       "\n",
       "[4324 rows x 5 columns]"
      ]
     },
     "execution_count": 281,
     "metadata": {},
     "output_type": "execute_result"
    }
   ],
   "source": [
    "RFM.reset_index()"
   ]
  },
  {
   "cell_type": "code",
   "execution_count": 282,
   "id": "76492b75",
   "metadata": {},
   "outputs": [
    {
     "data": {
      "text/html": [
       "<div>\n",
       "<style scoped>\n",
       "    .dataframe tbody tr th:only-of-type {\n",
       "        vertical-align: middle;\n",
       "    }\n",
       "\n",
       "    .dataframe tbody tr th {\n",
       "        vertical-align: top;\n",
       "    }\n",
       "\n",
       "    .dataframe thead th {\n",
       "        text-align: right;\n",
       "    }\n",
       "</style>\n",
       "<table border=\"1\" class=\"dataframe\">\n",
       "  <thead>\n",
       "    <tr style=\"text-align: right;\">\n",
       "      <th></th>\n",
       "      <th>CustomerID</th>\n",
       "      <th>Recency</th>\n",
       "      <th>Frequency</th>\n",
       "      <th>Monetary_Value</th>\n",
       "    </tr>\n",
       "  </thead>\n",
       "  <tbody>\n",
       "    <tr>\n",
       "      <th>count</th>\n",
       "      <td>4324.000000</td>\n",
       "      <td>4324.000000</td>\n",
       "      <td>4324.000000</td>\n",
       "      <td>4.324000e+03</td>\n",
       "    </tr>\n",
       "    <tr>\n",
       "      <th>mean</th>\n",
       "      <td>2185.346438</td>\n",
       "      <td>93.755319</td>\n",
       "      <td>4.233349</td>\n",
       "      <td>2.339841e+05</td>\n",
       "    </tr>\n",
       "    <tr>\n",
       "      <th>std</th>\n",
       "      <td>1261.594396</td>\n",
       "      <td>100.115549</td>\n",
       "      <td>7.583441</td>\n",
       "      <td>8.636663e+05</td>\n",
       "    </tr>\n",
       "    <tr>\n",
       "      <th>min</th>\n",
       "      <td>2.000000</td>\n",
       "      <td>1.000000</td>\n",
       "      <td>1.000000</td>\n",
       "      <td>3.880000e+02</td>\n",
       "    </tr>\n",
       "    <tr>\n",
       "      <th>25%</th>\n",
       "      <td>1092.750000</td>\n",
       "      <td>19.000000</td>\n",
       "      <td>1.000000</td>\n",
       "      <td>3.928800e+04</td>\n",
       "    </tr>\n",
       "    <tr>\n",
       "      <th>50%</th>\n",
       "      <td>2182.500000</td>\n",
       "      <td>52.000000</td>\n",
       "      <td>2.000000</td>\n",
       "      <td>8.614700e+04</td>\n",
       "    </tr>\n",
       "    <tr>\n",
       "      <th>75%</th>\n",
       "      <td>3279.250000</td>\n",
       "      <td>143.250000</td>\n",
       "      <td>5.000000</td>\n",
       "      <td>2.108338e+05</td>\n",
       "    </tr>\n",
       "    <tr>\n",
       "      <th>max</th>\n",
       "      <td>4372.000000</td>\n",
       "      <td>381.000000</td>\n",
       "      <td>206.000000</td>\n",
       "      <td>3.553619e+07</td>\n",
       "    </tr>\n",
       "  </tbody>\n",
       "</table>\n",
       "</div>"
      ],
      "text/plain": [
       "        CustomerID      Recency    Frequency  Monetary_Value\n",
       "count  4324.000000  4324.000000  4324.000000    4.324000e+03\n",
       "mean   2185.346438    93.755319     4.233349    2.339841e+05\n",
       "std    1261.594396   100.115549     7.583441    8.636663e+05\n",
       "min       2.000000     1.000000     1.000000    3.880000e+02\n",
       "25%    1092.750000    19.000000     1.000000    3.928800e+04\n",
       "50%    2182.500000    52.000000     2.000000    8.614700e+04\n",
       "75%    3279.250000   143.250000     5.000000    2.108338e+05\n",
       "max    4372.000000   381.000000   206.000000    3.553619e+07"
      ]
     },
     "execution_count": 282,
     "metadata": {},
     "output_type": "execute_result"
    }
   ],
   "source": [
    "RFM.describe(include='all')"
   ]
  },
  {
   "cell_type": "code",
   "execution_count": 283,
   "id": "d12e89ee",
   "metadata": {},
   "outputs": [],
   "source": [
    "quantiles = RFM.quantile(q=[0.25,0.50,0.75])\n",
    "quantiles = quantiles.to_dict()"
   ]
  },
  {
   "cell_type": "code",
   "execution_count": 284,
   "id": "2dc181db",
   "metadata": {},
   "outputs": [],
   "source": [
    "RFM_Segment = RFM.copy()"
   ]
  },
  {
   "cell_type": "code",
   "execution_count": 285,
   "id": "e102f6d6",
   "metadata": {},
   "outputs": [],
   "source": [
    "def RScore(x,p,d):\n",
    "    if x <= d[p][0.25]:\n",
    "        return 1\n",
    "    elif x <= d[p][0.50]:\n",
    "        return 2\n",
    "    elif x <= d[p][0.75]: \n",
    "        return 3\n",
    "    else:\n",
    "        return 4\n",
    "    \n",
    "def FMScore(x,p,d):\n",
    "    if x <= d[p][0.25]:\n",
    "        return 4\n",
    "    elif x <= d[p][0.50]:\n",
    "        return 3\n",
    "    elif x <= d[p][0.75]: \n",
    "        return 2\n",
    "    else:\n",
    "        return 1"
   ]
  },
  {
   "cell_type": "code",
   "execution_count": 286,
   "id": "7dbade35",
   "metadata": {},
   "outputs": [],
   "source": [
    "RFM_Segment['R_quartile'] = RFM_Segment['Recency'].apply(RScore, args=('Recency',quantiles))\n",
    "RFM_Segment['F_quartile'] = RFM_Segment['Frequency'].apply(FMScore, args=('Frequency',quantiles))\n",
    "RFM_Segment['M_quartile'] = RFM_Segment['Monetary_Value'].apply(FMScore, args=('Monetary_Value',quantiles))"
   ]
  },
  {
   "cell_type": "code",
   "execution_count": 287,
   "id": "0a00ec03",
   "metadata": {},
   "outputs": [
    {
     "data": {
      "text/html": [
       "<div>\n",
       "<style scoped>\n",
       "    .dataframe tbody tr th:only-of-type {\n",
       "        vertical-align: middle;\n",
       "    }\n",
       "\n",
       "    .dataframe tbody tr th {\n",
       "        vertical-align: top;\n",
       "    }\n",
       "\n",
       "    .dataframe thead th {\n",
       "        text-align: right;\n",
       "    }\n",
       "</style>\n",
       "<table border=\"1\" class=\"dataframe\">\n",
       "  <thead>\n",
       "    <tr style=\"text-align: right;\">\n",
       "      <th></th>\n",
       "      <th>CustomerID</th>\n",
       "      <th>Recency</th>\n",
       "      <th>Frequency</th>\n",
       "      <th>Monetary_Value</th>\n",
       "      <th>R_quartile</th>\n",
       "      <th>F_quartile</th>\n",
       "      <th>M_quartile</th>\n",
       "    </tr>\n",
       "  </thead>\n",
       "  <tbody>\n",
       "    <tr>\n",
       "      <th>0</th>\n",
       "      <td>2.0</td>\n",
       "      <td>4</td>\n",
       "      <td>7</td>\n",
       "      <td>553704.0</td>\n",
       "      <td>1</td>\n",
       "      <td>1</td>\n",
       "      <td>1</td>\n",
       "    </tr>\n",
       "    <tr>\n",
       "      <th>1</th>\n",
       "      <td>3.0</td>\n",
       "      <td>77</td>\n",
       "      <td>4</td>\n",
       "      <td>257404.0</td>\n",
       "      <td>3</td>\n",
       "      <td>2</td>\n",
       "      <td>1</td>\n",
       "    </tr>\n",
       "    <tr>\n",
       "      <th>2</th>\n",
       "      <td>4.0</td>\n",
       "      <td>19</td>\n",
       "      <td>1</td>\n",
       "      <td>176613.0</td>\n",
       "      <td>1</td>\n",
       "      <td>4</td>\n",
       "      <td>2</td>\n",
       "    </tr>\n",
       "    <tr>\n",
       "      <th>3</th>\n",
       "      <td>5.0</td>\n",
       "      <td>311</td>\n",
       "      <td>1</td>\n",
       "      <td>41976.0</td>\n",
       "      <td>4</td>\n",
       "      <td>4</td>\n",
       "      <td>3</td>\n",
       "    </tr>\n",
       "    <tr>\n",
       "      <th>4</th>\n",
       "      <td>6.0</td>\n",
       "      <td>37</td>\n",
       "      <td>7</td>\n",
       "      <td>166972.0</td>\n",
       "      <td>2</td>\n",
       "      <td>1</td>\n",
       "      <td>2</td>\n",
       "    </tr>\n",
       "    <tr>\n",
       "      <th>5</th>\n",
       "      <td>7.0</td>\n",
       "      <td>208</td>\n",
       "      <td>1</td>\n",
       "      <td>9410.0</td>\n",
       "      <td>4</td>\n",
       "      <td>4</td>\n",
       "      <td>4</td>\n",
       "    </tr>\n",
       "    <tr>\n",
       "      <th>6</th>\n",
       "      <td>8.0</td>\n",
       "      <td>233</td>\n",
       "      <td>1</td>\n",
       "      <td>135550.0</td>\n",
       "      <td>4</td>\n",
       "      <td>4</td>\n",
       "      <td>2</td>\n",
       "    </tr>\n",
       "    <tr>\n",
       "      <th>7</th>\n",
       "      <td>9.0</td>\n",
       "      <td>215</td>\n",
       "      <td>1</td>\n",
       "      <td>65832.0</td>\n",
       "      <td>4</td>\n",
       "      <td>4</td>\n",
       "      <td>3</td>\n",
       "    </tr>\n",
       "    <tr>\n",
       "      <th>8</th>\n",
       "      <td>10.0</td>\n",
       "      <td>25</td>\n",
       "      <td>3</td>\n",
       "      <td>331601.0</td>\n",
       "      <td>2</td>\n",
       "      <td>2</td>\n",
       "      <td>1</td>\n",
       "    </tr>\n",
       "    <tr>\n",
       "      <th>9</th>\n",
       "      <td>11.0</td>\n",
       "      <td>34</td>\n",
       "      <td>1</td>\n",
       "      <td>771439.0</td>\n",
       "      <td>2</td>\n",
       "      <td>4</td>\n",
       "      <td>1</td>\n",
       "    </tr>\n",
       "  </tbody>\n",
       "</table>\n",
       "</div>"
      ],
      "text/plain": [
       "   CustomerID  Recency  Frequency  Monetary_Value  R_quartile  F_quartile  \\\n",
       "0         2.0        4          7        553704.0           1           1   \n",
       "1         3.0       77          4        257404.0           3           2   \n",
       "2         4.0       19          1        176613.0           1           4   \n",
       "3         5.0      311          1         41976.0           4           4   \n",
       "4         6.0       37          7        166972.0           2           1   \n",
       "5         7.0      208          1          9410.0           4           4   \n",
       "6         8.0      233          1        135550.0           4           4   \n",
       "7         9.0      215          1         65832.0           4           4   \n",
       "8        10.0       25          3        331601.0           2           2   \n",
       "9        11.0       34          1        771439.0           2           4   \n",
       "\n",
       "   M_quartile  \n",
       "0           1  \n",
       "1           1  \n",
       "2           2  \n",
       "3           3  \n",
       "4           2  \n",
       "5           4  \n",
       "6           2  \n",
       "7           3  \n",
       "8           1  \n",
       "9           1  "
      ]
     },
     "execution_count": 287,
     "metadata": {},
     "output_type": "execute_result"
    }
   ],
   "source": [
    "RFM_Segment.head(10)"
   ]
  },
  {
   "cell_type": "markdown",
   "id": "bc9f74c7",
   "metadata": {},
   "source": [
    "**Best Recency score = 1: Purchased very recently. Best Frequency score = 1: highest quantity purchases. Best Monetary score = 1: spent the most.**"
   ]
  },
  {
   "cell_type": "code",
   "execution_count": 288,
   "id": "8397bcc2",
   "metadata": {},
   "outputs": [
    {
     "data": {
      "text/html": [
       "<div>\n",
       "<style scoped>\n",
       "    .dataframe tbody tr th:only-of-type {\n",
       "        vertical-align: middle;\n",
       "    }\n",
       "\n",
       "    .dataframe tbody tr th {\n",
       "        vertical-align: top;\n",
       "    }\n",
       "\n",
       "    .dataframe thead th {\n",
       "        text-align: right;\n",
       "    }\n",
       "</style>\n",
       "<table border=\"1\" class=\"dataframe\">\n",
       "  <thead>\n",
       "    <tr style=\"text-align: right;\">\n",
       "      <th></th>\n",
       "      <th>CustomerID</th>\n",
       "      <th>Recency</th>\n",
       "      <th>Frequency</th>\n",
       "      <th>Monetary_Value</th>\n",
       "      <th>R_quartile</th>\n",
       "      <th>F_quartile</th>\n",
       "      <th>M_quartile</th>\n",
       "      <th>RFM_Segment</th>\n",
       "    </tr>\n",
       "  </thead>\n",
       "  <tbody>\n",
       "    <tr>\n",
       "      <th>0</th>\n",
       "      <td>2.0</td>\n",
       "      <td>4</td>\n",
       "      <td>7</td>\n",
       "      <td>553704.0</td>\n",
       "      <td>1</td>\n",
       "      <td>1</td>\n",
       "      <td>1</td>\n",
       "      <td>111</td>\n",
       "    </tr>\n",
       "    <tr>\n",
       "      <th>1</th>\n",
       "      <td>3.0</td>\n",
       "      <td>77</td>\n",
       "      <td>4</td>\n",
       "      <td>257404.0</td>\n",
       "      <td>3</td>\n",
       "      <td>2</td>\n",
       "      <td>1</td>\n",
       "      <td>321</td>\n",
       "    </tr>\n",
       "    <tr>\n",
       "      <th>2</th>\n",
       "      <td>4.0</td>\n",
       "      <td>19</td>\n",
       "      <td>1</td>\n",
       "      <td>176613.0</td>\n",
       "      <td>1</td>\n",
       "      <td>4</td>\n",
       "      <td>2</td>\n",
       "      <td>142</td>\n",
       "    </tr>\n",
       "    <tr>\n",
       "      <th>3</th>\n",
       "      <td>5.0</td>\n",
       "      <td>311</td>\n",
       "      <td>1</td>\n",
       "      <td>41976.0</td>\n",
       "      <td>4</td>\n",
       "      <td>4</td>\n",
       "      <td>3</td>\n",
       "      <td>443</td>\n",
       "    </tr>\n",
       "    <tr>\n",
       "      <th>4</th>\n",
       "      <td>6.0</td>\n",
       "      <td>37</td>\n",
       "      <td>7</td>\n",
       "      <td>166972.0</td>\n",
       "      <td>2</td>\n",
       "      <td>1</td>\n",
       "      <td>2</td>\n",
       "      <td>212</td>\n",
       "    </tr>\n",
       "  </tbody>\n",
       "</table>\n",
       "</div>"
      ],
      "text/plain": [
       "   CustomerID  Recency  Frequency  Monetary_Value  R_quartile  F_quartile  \\\n",
       "0         2.0        4          7        553704.0           1           1   \n",
       "1         3.0       77          4        257404.0           3           2   \n",
       "2         4.0       19          1        176613.0           1           4   \n",
       "3         5.0      311          1         41976.0           4           4   \n",
       "4         6.0       37          7        166972.0           2           1   \n",
       "\n",
       "   M_quartile RFM_Segment  \n",
       "0           1         111  \n",
       "1           1         321  \n",
       "2           2         142  \n",
       "3           3         443  \n",
       "4           2         212  "
      ]
     },
     "execution_count": 288,
     "metadata": {},
     "output_type": "execute_result"
    }
   ],
   "source": [
    "RFM_Segment['RFM_Segment'] = RFM_Segment.R_quartile.map(str)+RFM_Segment.F_quartile.map(str)+RFM_Segment.M_quartile.map(str)\n",
    "RFM_Segment.head()"
   ]
  },
  {
   "cell_type": "code",
   "execution_count": 289,
   "id": "723a6ccb",
   "metadata": {},
   "outputs": [
    {
     "data": {
      "text/html": [
       "<div>\n",
       "<style scoped>\n",
       "    .dataframe tbody tr th:only-of-type {\n",
       "        vertical-align: middle;\n",
       "    }\n",
       "\n",
       "    .dataframe tbody tr th {\n",
       "        vertical-align: top;\n",
       "    }\n",
       "\n",
       "    .dataframe thead th {\n",
       "        text-align: right;\n",
       "    }\n",
       "</style>\n",
       "<table border=\"1\" class=\"dataframe\">\n",
       "  <thead>\n",
       "    <tr style=\"text-align: right;\">\n",
       "      <th></th>\n",
       "      <th>CustomerID</th>\n",
       "      <th>Recency</th>\n",
       "      <th>Frequency</th>\n",
       "      <th>Monetary_Value</th>\n",
       "      <th>R_quartile</th>\n",
       "      <th>F_quartile</th>\n",
       "      <th>M_quartile</th>\n",
       "      <th>RFM_Segment</th>\n",
       "      <th>RFM_Score</th>\n",
       "    </tr>\n",
       "  </thead>\n",
       "  <tbody>\n",
       "    <tr>\n",
       "      <th>0</th>\n",
       "      <td>2.0</td>\n",
       "      <td>4</td>\n",
       "      <td>7</td>\n",
       "      <td>553704.0</td>\n",
       "      <td>1</td>\n",
       "      <td>1</td>\n",
       "      <td>1</td>\n",
       "      <td>111</td>\n",
       "      <td>3</td>\n",
       "    </tr>\n",
       "    <tr>\n",
       "      <th>1</th>\n",
       "      <td>3.0</td>\n",
       "      <td>77</td>\n",
       "      <td>4</td>\n",
       "      <td>257404.0</td>\n",
       "      <td>3</td>\n",
       "      <td>2</td>\n",
       "      <td>1</td>\n",
       "      <td>321</td>\n",
       "      <td>6</td>\n",
       "    </tr>\n",
       "    <tr>\n",
       "      <th>2</th>\n",
       "      <td>4.0</td>\n",
       "      <td>19</td>\n",
       "      <td>1</td>\n",
       "      <td>176613.0</td>\n",
       "      <td>1</td>\n",
       "      <td>4</td>\n",
       "      <td>2</td>\n",
       "      <td>142</td>\n",
       "      <td>7</td>\n",
       "    </tr>\n",
       "    <tr>\n",
       "      <th>3</th>\n",
       "      <td>5.0</td>\n",
       "      <td>311</td>\n",
       "      <td>1</td>\n",
       "      <td>41976.0</td>\n",
       "      <td>4</td>\n",
       "      <td>4</td>\n",
       "      <td>3</td>\n",
       "      <td>443</td>\n",
       "      <td>11</td>\n",
       "    </tr>\n",
       "    <tr>\n",
       "      <th>4</th>\n",
       "      <td>6.0</td>\n",
       "      <td>37</td>\n",
       "      <td>7</td>\n",
       "      <td>166972.0</td>\n",
       "      <td>2</td>\n",
       "      <td>1</td>\n",
       "      <td>2</td>\n",
       "      <td>212</td>\n",
       "      <td>5</td>\n",
       "    </tr>\n",
       "  </tbody>\n",
       "</table>\n",
       "</div>"
      ],
      "text/plain": [
       "   CustomerID  Recency  Frequency  Monetary_Value  R_quartile  F_quartile  \\\n",
       "0         2.0        4          7        553704.0           1           1   \n",
       "1         3.0       77          4        257404.0           3           2   \n",
       "2         4.0       19          1        176613.0           1           4   \n",
       "3         5.0      311          1         41976.0           4           4   \n",
       "4         6.0       37          7        166972.0           2           1   \n",
       "\n",
       "   M_quartile RFM_Segment  RFM_Score  \n",
       "0           1         111          3  \n",
       "1           1         321          6  \n",
       "2           2         142          7  \n",
       "3           3         443         11  \n",
       "4           2         212          5  "
      ]
     },
     "execution_count": 289,
     "metadata": {},
     "output_type": "execute_result"
    }
   ],
   "source": [
    "RFM_Segment['RFM_Score'] = RFM_Segment[['R_quartile','F_quartile','M_quartile']].sum(axis=1)\n",
    "RFM_Segment.head()"
   ]
  },
  {
   "cell_type": "code",
   "execution_count": 290,
   "id": "b4db4756",
   "metadata": {},
   "outputs": [
    {
     "data": {
      "text/html": [
       "<div>\n",
       "<style scoped>\n",
       "    .dataframe tbody tr th:only-of-type {\n",
       "        vertical-align: middle;\n",
       "    }\n",
       "\n",
       "    .dataframe tbody tr th {\n",
       "        vertical-align: top;\n",
       "    }\n",
       "\n",
       "    .dataframe thead th {\n",
       "        text-align: right;\n",
       "    }\n",
       "</style>\n",
       "<table border=\"1\" class=\"dataframe\">\n",
       "  <thead>\n",
       "    <tr style=\"text-align: right;\">\n",
       "      <th></th>\n",
       "      <th>CustomerID</th>\n",
       "      <th>Recency</th>\n",
       "      <th>Frequency</th>\n",
       "      <th>Monetary_Value</th>\n",
       "      <th>R_quartile</th>\n",
       "      <th>F_quartile</th>\n",
       "      <th>M_quartile</th>\n",
       "      <th>RFM_Segment</th>\n",
       "      <th>RFM_Score</th>\n",
       "    </tr>\n",
       "  </thead>\n",
       "  <tbody>\n",
       "    <tr>\n",
       "      <th>count</th>\n",
       "      <td>4324.000000</td>\n",
       "      <td>4324.000000</td>\n",
       "      <td>4324.000000</td>\n",
       "      <td>4.324000e+03</td>\n",
       "      <td>4324.000000</td>\n",
       "      <td>4324.000000</td>\n",
       "      <td>4324.000000</td>\n",
       "      <td>4324</td>\n",
       "      <td>4324.000000</td>\n",
       "    </tr>\n",
       "    <tr>\n",
       "      <th>unique</th>\n",
       "      <td>NaN</td>\n",
       "      <td>NaN</td>\n",
       "      <td>NaN</td>\n",
       "      <td>NaN</td>\n",
       "      <td>NaN</td>\n",
       "      <td>NaN</td>\n",
       "      <td>NaN</td>\n",
       "      <td>60</td>\n",
       "      <td>NaN</td>\n",
       "    </tr>\n",
       "    <tr>\n",
       "      <th>top</th>\n",
       "      <td>NaN</td>\n",
       "      <td>NaN</td>\n",
       "      <td>NaN</td>\n",
       "      <td>NaN</td>\n",
       "      <td>NaN</td>\n",
       "      <td>NaN</td>\n",
       "      <td>NaN</td>\n",
       "      <td>111</td>\n",
       "      <td>NaN</td>\n",
       "    </tr>\n",
       "    <tr>\n",
       "      <th>freq</th>\n",
       "      <td>NaN</td>\n",
       "      <td>NaN</td>\n",
       "      <td>NaN</td>\n",
       "      <td>NaN</td>\n",
       "      <td>NaN</td>\n",
       "      <td>NaN</td>\n",
       "      <td>NaN</td>\n",
       "      <td>465</td>\n",
       "      <td>NaN</td>\n",
       "    </tr>\n",
       "    <tr>\n",
       "      <th>mean</th>\n",
       "      <td>2185.346438</td>\n",
       "      <td>93.755319</td>\n",
       "      <td>4.233349</td>\n",
       "      <td>2.339841e+05</td>\n",
       "      <td>2.490056</td>\n",
       "      <td>2.687789</td>\n",
       "      <td>2.500000</td>\n",
       "      <td>NaN</td>\n",
       "      <td>7.677845</td>\n",
       "    </tr>\n",
       "    <tr>\n",
       "      <th>std</th>\n",
       "      <td>1261.594396</td>\n",
       "      <td>100.115549</td>\n",
       "      <td>7.583441</td>\n",
       "      <td>8.636663e+05</td>\n",
       "      <td>1.124514</td>\n",
       "      <td>1.145096</td>\n",
       "      <td>1.118163</td>\n",
       "      <td>NaN</td>\n",
       "      <td>2.888483</td>\n",
       "    </tr>\n",
       "    <tr>\n",
       "      <th>min</th>\n",
       "      <td>2.000000</td>\n",
       "      <td>1.000000</td>\n",
       "      <td>1.000000</td>\n",
       "      <td>3.880000e+02</td>\n",
       "      <td>1.000000</td>\n",
       "      <td>1.000000</td>\n",
       "      <td>1.000000</td>\n",
       "      <td>NaN</td>\n",
       "      <td>3.000000</td>\n",
       "    </tr>\n",
       "    <tr>\n",
       "      <th>25%</th>\n",
       "      <td>1092.750000</td>\n",
       "      <td>19.000000</td>\n",
       "      <td>1.000000</td>\n",
       "      <td>3.928800e+04</td>\n",
       "      <td>1.000000</td>\n",
       "      <td>2.000000</td>\n",
       "      <td>1.750000</td>\n",
       "      <td>NaN</td>\n",
       "      <td>5.000000</td>\n",
       "    </tr>\n",
       "    <tr>\n",
       "      <th>50%</th>\n",
       "      <td>2182.500000</td>\n",
       "      <td>52.000000</td>\n",
       "      <td>2.000000</td>\n",
       "      <td>8.614700e+04</td>\n",
       "      <td>2.000000</td>\n",
       "      <td>3.000000</td>\n",
       "      <td>2.500000</td>\n",
       "      <td>NaN</td>\n",
       "      <td>8.000000</td>\n",
       "    </tr>\n",
       "    <tr>\n",
       "      <th>75%</th>\n",
       "      <td>3279.250000</td>\n",
       "      <td>143.250000</td>\n",
       "      <td>5.000000</td>\n",
       "      <td>2.108338e+05</td>\n",
       "      <td>3.250000</td>\n",
       "      <td>4.000000</td>\n",
       "      <td>3.250000</td>\n",
       "      <td>NaN</td>\n",
       "      <td>10.000000</td>\n",
       "    </tr>\n",
       "    <tr>\n",
       "      <th>max</th>\n",
       "      <td>4372.000000</td>\n",
       "      <td>381.000000</td>\n",
       "      <td>206.000000</td>\n",
       "      <td>3.553619e+07</td>\n",
       "      <td>4.000000</td>\n",
       "      <td>4.000000</td>\n",
       "      <td>4.000000</td>\n",
       "      <td>NaN</td>\n",
       "      <td>12.000000</td>\n",
       "    </tr>\n",
       "  </tbody>\n",
       "</table>\n",
       "</div>"
      ],
      "text/plain": [
       "         CustomerID      Recency    Frequency  Monetary_Value   R_quartile  \\\n",
       "count   4324.000000  4324.000000  4324.000000    4.324000e+03  4324.000000   \n",
       "unique          NaN          NaN          NaN             NaN          NaN   \n",
       "top             NaN          NaN          NaN             NaN          NaN   \n",
       "freq            NaN          NaN          NaN             NaN          NaN   \n",
       "mean    2185.346438    93.755319     4.233349    2.339841e+05     2.490056   \n",
       "std     1261.594396   100.115549     7.583441    8.636663e+05     1.124514   \n",
       "min        2.000000     1.000000     1.000000    3.880000e+02     1.000000   \n",
       "25%     1092.750000    19.000000     1.000000    3.928800e+04     1.000000   \n",
       "50%     2182.500000    52.000000     2.000000    8.614700e+04     2.000000   \n",
       "75%     3279.250000   143.250000     5.000000    2.108338e+05     3.250000   \n",
       "max     4372.000000   381.000000   206.000000    3.553619e+07     4.000000   \n",
       "\n",
       "         F_quartile   M_quartile RFM_Segment    RFM_Score  \n",
       "count   4324.000000  4324.000000        4324  4324.000000  \n",
       "unique          NaN          NaN          60          NaN  \n",
       "top             NaN          NaN         111          NaN  \n",
       "freq            NaN          NaN         465          NaN  \n",
       "mean       2.687789     2.500000         NaN     7.677845  \n",
       "std        1.145096     1.118163         NaN     2.888483  \n",
       "min        1.000000     1.000000         NaN     3.000000  \n",
       "25%        2.000000     1.750000         NaN     5.000000  \n",
       "50%        3.000000     2.500000         NaN     8.000000  \n",
       "75%        4.000000     3.250000         NaN    10.000000  \n",
       "max        4.000000     4.000000         NaN    12.000000  "
      ]
     },
     "execution_count": 290,
     "metadata": {},
     "output_type": "execute_result"
    }
   ],
   "source": [
    "RFM_Segment.describe(include='all')"
   ]
  },
  {
   "cell_type": "code",
   "execution_count": 295,
   "id": "bc658b7d",
   "metadata": {},
   "outputs": [],
   "source": [
    "#Assign loyalty level to each customer \n",
    "x=RFM_Segment['RFM_Score']\n",
    "Bins=[0,5,8,10,x.max()]# doing these segregation on the basis of values (min,25%,50%,75%,max)\n",
    "Binlabels=['Very Good Customer','Average Customer','Almost Lost Customer','Churn Customer']\n",
    "cateogries=pd.cut(x,Bins,labels=Binlabels)"
   ]
  },
  {
   "cell_type": "code",
   "execution_count": 296,
   "id": "96549847",
   "metadata": {},
   "outputs": [],
   "source": [
    "#creating new column in dataframe and storing the value\n",
    "RFM_Segment['RFM_Levels']=cateogries"
   ]
  },
  {
   "cell_type": "code",
   "execution_count": 297,
   "id": "80b567b1",
   "metadata": {},
   "outputs": [
    {
     "data": {
      "text/html": [
       "<div>\n",
       "<style scoped>\n",
       "    .dataframe tbody tr th:only-of-type {\n",
       "        vertical-align: middle;\n",
       "    }\n",
       "\n",
       "    .dataframe tbody tr th {\n",
       "        vertical-align: top;\n",
       "    }\n",
       "\n",
       "    .dataframe thead th {\n",
       "        text-align: right;\n",
       "    }\n",
       "</style>\n",
       "<table border=\"1\" class=\"dataframe\">\n",
       "  <thead>\n",
       "    <tr style=\"text-align: right;\">\n",
       "      <th></th>\n",
       "      <th>CustomerID</th>\n",
       "      <th>Recency</th>\n",
       "      <th>Frequency</th>\n",
       "      <th>Monetary_Value</th>\n",
       "      <th>R_quartile</th>\n",
       "      <th>F_quartile</th>\n",
       "      <th>M_quartile</th>\n",
       "      <th>RFM_Segment</th>\n",
       "      <th>RFM_Score</th>\n",
       "      <th>RFM_Levels</th>\n",
       "    </tr>\n",
       "  </thead>\n",
       "  <tbody>\n",
       "    <tr>\n",
       "      <th>0</th>\n",
       "      <td>2.0</td>\n",
       "      <td>4</td>\n",
       "      <td>7</td>\n",
       "      <td>553704.0</td>\n",
       "      <td>1</td>\n",
       "      <td>1</td>\n",
       "      <td>1</td>\n",
       "      <td>111</td>\n",
       "      <td>3</td>\n",
       "      <td>Very Good Customer</td>\n",
       "    </tr>\n",
       "    <tr>\n",
       "      <th>189</th>\n",
       "      <td>193.0</td>\n",
       "      <td>6</td>\n",
       "      <td>9</td>\n",
       "      <td>245289.0</td>\n",
       "      <td>1</td>\n",
       "      <td>1</td>\n",
       "      <td>1</td>\n",
       "      <td>111</td>\n",
       "      <td>3</td>\n",
       "      <td>Very Good Customer</td>\n",
       "    </tr>\n",
       "    <tr>\n",
       "      <th>3392</th>\n",
       "      <td>3429.0</td>\n",
       "      <td>18</td>\n",
       "      <td>10</td>\n",
       "      <td>647148.0</td>\n",
       "      <td>1</td>\n",
       "      <td>1</td>\n",
       "      <td>1</td>\n",
       "      <td>111</td>\n",
       "      <td>3</td>\n",
       "      <td>Very Good Customer</td>\n",
       "    </tr>\n",
       "    <tr>\n",
       "      <th>3390</th>\n",
       "      <td>3427.0</td>\n",
       "      <td>13</td>\n",
       "      <td>7</td>\n",
       "      <td>258866.0</td>\n",
       "      <td>1</td>\n",
       "      <td>1</td>\n",
       "      <td>1</td>\n",
       "      <td>111</td>\n",
       "      <td>3</td>\n",
       "      <td>Very Good Customer</td>\n",
       "    </tr>\n",
       "    <tr>\n",
       "      <th>3387</th>\n",
       "      <td>3424.0</td>\n",
       "      <td>5</td>\n",
       "      <td>6</td>\n",
       "      <td>225955.0</td>\n",
       "      <td>1</td>\n",
       "      <td>1</td>\n",
       "      <td>1</td>\n",
       "      <td>111</td>\n",
       "      <td>3</td>\n",
       "      <td>Very Good Customer</td>\n",
       "    </tr>\n",
       "    <tr>\n",
       "      <th>...</th>\n",
       "      <td>...</td>\n",
       "      <td>...</td>\n",
       "      <td>...</td>\n",
       "      <td>...</td>\n",
       "      <td>...</td>\n",
       "      <td>...</td>\n",
       "      <td>...</td>\n",
       "      <td>...</td>\n",
       "      <td>...</td>\n",
       "      <td>...</td>\n",
       "    </tr>\n",
       "    <tr>\n",
       "      <th>259</th>\n",
       "      <td>264.0</td>\n",
       "      <td>333</td>\n",
       "      <td>1</td>\n",
       "      <td>6252.0</td>\n",
       "      <td>4</td>\n",
       "      <td>4</td>\n",
       "      <td>4</td>\n",
       "      <td>444</td>\n",
       "      <td>12</td>\n",
       "      <td>Churn Customer</td>\n",
       "    </tr>\n",
       "    <tr>\n",
       "      <th>4163</th>\n",
       "      <td>4208.0</td>\n",
       "      <td>293</td>\n",
       "      <td>1</td>\n",
       "      <td>10716.0</td>\n",
       "      <td>4</td>\n",
       "      <td>4</td>\n",
       "      <td>4</td>\n",
       "      <td>444</td>\n",
       "      <td>12</td>\n",
       "      <td>Churn Customer</td>\n",
       "    </tr>\n",
       "    <tr>\n",
       "      <th>3084</th>\n",
       "      <td>3118.0</td>\n",
       "      <td>365</td>\n",
       "      <td>1</td>\n",
       "      <td>18035.0</td>\n",
       "      <td>4</td>\n",
       "      <td>4</td>\n",
       "      <td>4</td>\n",
       "      <td>444</td>\n",
       "      <td>12</td>\n",
       "      <td>Churn Customer</td>\n",
       "    </tr>\n",
       "    <tr>\n",
       "      <th>990</th>\n",
       "      <td>1001.0</td>\n",
       "      <td>183</td>\n",
       "      <td>1</td>\n",
       "      <td>10575.0</td>\n",
       "      <td>4</td>\n",
       "      <td>4</td>\n",
       "      <td>4</td>\n",
       "      <td>444</td>\n",
       "      <td>12</td>\n",
       "      <td>Churn Customer</td>\n",
       "    </tr>\n",
       "    <tr>\n",
       "      <th>1391</th>\n",
       "      <td>1407.0</td>\n",
       "      <td>329</td>\n",
       "      <td>1</td>\n",
       "      <td>20847.0</td>\n",
       "      <td>4</td>\n",
       "      <td>4</td>\n",
       "      <td>4</td>\n",
       "      <td>444</td>\n",
       "      <td>12</td>\n",
       "      <td>Churn Customer</td>\n",
       "    </tr>\n",
       "  </tbody>\n",
       "</table>\n",
       "<p>4324 rows × 10 columns</p>\n",
       "</div>"
      ],
      "text/plain": [
       "      CustomerID  Recency  Frequency  Monetary_Value  R_quartile  F_quartile  \\\n",
       "0            2.0        4          7        553704.0           1           1   \n",
       "189        193.0        6          9        245289.0           1           1   \n",
       "3392      3429.0       18         10        647148.0           1           1   \n",
       "3390      3427.0       13          7        258866.0           1           1   \n",
       "3387      3424.0        5          6        225955.0           1           1   \n",
       "...          ...      ...        ...             ...         ...         ...   \n",
       "259        264.0      333          1          6252.0           4           4   \n",
       "4163      4208.0      293          1         10716.0           4           4   \n",
       "3084      3118.0      365          1         18035.0           4           4   \n",
       "990       1001.0      183          1         10575.0           4           4   \n",
       "1391      1407.0      329          1         20847.0           4           4   \n",
       "\n",
       "      M_quartile RFM_Segment  RFM_Score          RFM_Levels  \n",
       "0              1         111          3  Very Good Customer  \n",
       "189            1         111          3  Very Good Customer  \n",
       "3392           1         111          3  Very Good Customer  \n",
       "3390           1         111          3  Very Good Customer  \n",
       "3387           1         111          3  Very Good Customer  \n",
       "...          ...         ...        ...                 ...  \n",
       "259            4         444         12      Churn Customer  \n",
       "4163           4         444         12      Churn Customer  \n",
       "3084           4         444         12      Churn Customer  \n",
       "990            4         444         12      Churn Customer  \n",
       "1391           4         444         12      Churn Customer  \n",
       "\n",
       "[4324 rows x 10 columns]"
      ]
     },
     "execution_count": 297,
     "metadata": {},
     "output_type": "execute_result"
    }
   ],
   "source": [
    "RFM_Segment=RFM_Segment.sort_values(by=['RFM_Score'],ascending=True)\n",
    "RFM_Segment"
   ]
  },
  {
   "cell_type": "code",
   "execution_count": 298,
   "id": "0dcdd4a3",
   "metadata": {},
   "outputs": [],
   "source": [
    "rfm_level_agg = RFM_Segment.groupby('RFM_Levels').agg({'Recency' :'mean',\n",
    "                                       'Frequency':'mean',\n",
    "                                       'Monetary_Value':['mean','count']}).round(1)"
   ]
  },
  {
   "cell_type": "code",
   "execution_count": 299,
   "id": "68d1666b",
   "metadata": {},
   "outputs": [
    {
     "data": {
      "text/html": [
       "<div>\n",
       "<style scoped>\n",
       "    .dataframe tbody tr th:only-of-type {\n",
       "        vertical-align: middle;\n",
       "    }\n",
       "\n",
       "    .dataframe tbody tr th {\n",
       "        vertical-align: top;\n",
       "    }\n",
       "\n",
       "    .dataframe thead tr th {\n",
       "        text-align: left;\n",
       "    }\n",
       "\n",
       "    .dataframe thead tr:last-of-type th {\n",
       "        text-align: right;\n",
       "    }\n",
       "</style>\n",
       "<table border=\"1\" class=\"dataframe\">\n",
       "  <thead>\n",
       "    <tr>\n",
       "      <th></th>\n",
       "      <th>Recency</th>\n",
       "      <th>Frequency</th>\n",
       "      <th colspan=\"2\" halign=\"left\">Monetary_Value</th>\n",
       "    </tr>\n",
       "    <tr>\n",
       "      <th></th>\n",
       "      <th>mean</th>\n",
       "      <th>mean</th>\n",
       "      <th>mean</th>\n",
       "      <th>count</th>\n",
       "    </tr>\n",
       "    <tr>\n",
       "      <th>RFM_Levels</th>\n",
       "      <th></th>\n",
       "      <th></th>\n",
       "      <th></th>\n",
       "      <th></th>\n",
       "    </tr>\n",
       "  </thead>\n",
       "  <tbody>\n",
       "    <tr>\n",
       "      <th>Very Good Customer</th>\n",
       "      <td>19.0</td>\n",
       "      <td>10.2</td>\n",
       "      <td>638075.8</td>\n",
       "      <td>1180</td>\n",
       "    </tr>\n",
       "    <tr>\n",
       "      <th>Average Customer</th>\n",
       "      <td>59.7</td>\n",
       "      <td>3.1</td>\n",
       "      <td>138386.8</td>\n",
       "      <td>1246</td>\n",
       "    </tr>\n",
       "    <tr>\n",
       "      <th>Almost Lost Customer</th>\n",
       "      <td>103.6</td>\n",
       "      <td>1.5</td>\n",
       "      <td>61393.1</td>\n",
       "      <td>977</td>\n",
       "    </tr>\n",
       "    <tr>\n",
       "      <th>Churn Customer</th>\n",
       "      <td>225.1</td>\n",
       "      <td>1.1</td>\n",
       "      <td>28672.1</td>\n",
       "      <td>921</td>\n",
       "    </tr>\n",
       "  </tbody>\n",
       "</table>\n",
       "</div>"
      ],
      "text/plain": [
       "                     Recency Frequency Monetary_Value      \n",
       "                        mean      mean           mean count\n",
       "RFM_Levels                                                 \n",
       "Very Good Customer      19.0      10.2       638075.8  1180\n",
       "Average Customer        59.7       3.1       138386.8  1246\n",
       "Almost Lost Customer   103.6       1.5        61393.1   977\n",
       "Churn Customer         225.1       1.1        28672.1   921"
      ]
     },
     "execution_count": 299,
     "metadata": {},
     "output_type": "execute_result"
    }
   ],
   "source": [
    "rfm_level_agg"
   ]
  },
  {
   "cell_type": "markdown",
   "id": "cff1a162",
   "metadata": {},
   "source": [
    "**Some useful insights for future marketing strategies**"
   ]
  },
  {
   "cell_type": "code",
   "execution_count": 300,
   "id": "13ee0846",
   "metadata": {},
   "outputs": [
    {
     "name": "stdout",
     "output_type": "stream",
     "text": [
      "Best Customers:  465\n",
      "Loyal Customers:  863\n",
      "Big Spenders:  1081\n"
     ]
    }
   ],
   "source": [
    "print(\"Best Customers: \",len(RFM_Segment[RFM_Segment['RFM_Segment']=='111'])) \n",
    "print(\"Loyal Customers: \",len(RFM_Segment[RFM_Segment['F_quartile']==1]))\n",
    "print(\"Big Spenders: \",len(RFM_Segment[RFM_Segment['M_quartile']==1]))"
   ]
  },
  {
   "cell_type": "markdown",
   "id": "7ba0c4fa",
   "metadata": {},
   "source": [
    "**Suggested marketing strategies on segmented customers:\n",
    "Very Good Customers- Discounts, early access of new products, and loyalty programs.(RFM Score 3-5)\n",
    "Average Customer - Coupons or Cashback rewards, low delivery charges (RFM Score 6-8)\n",
    "Almost Lost Customer- Aggresive price incentives (RFM Score 9-10)\n",
    "Churn Customers-Don’t spend too much trying to re-acquire them.(RFM Score 11-12)**"
   ]
  },
  {
   "cell_type": "code",
   "execution_count": 301,
   "id": "bca445ae",
   "metadata": {},
   "outputs": [],
   "source": [
    "RFM_Segment.to_excel(r\"RFM_Segments.xlsx\",index=True)"
   ]
  },
  {
   "cell_type": "markdown",
   "id": "876e67a7",
   "metadata": {},
   "source": [
    "# K-Means Clustering"
   ]
  },
  {
   "cell_type": "code",
   "execution_count": 302,
   "id": "b0f6aacf",
   "metadata": {},
   "outputs": [
    {
     "name": "stdout",
     "output_type": "stream",
     "text": [
      "           Recency    Frequency  Monetary_Value\n",
      "count  4324.000000  4324.000000    4.324000e+03\n",
      "mean     93.755319     4.233349    2.339841e+05\n",
      "std     100.115549     7.583441    8.636663e+05\n",
      "min       1.000000     1.000000    3.880000e+02\n",
      "25%      19.000000     1.000000    3.928800e+04\n",
      "50%      52.000000     2.000000    8.614700e+04\n",
      "75%     143.250000     5.000000    2.108338e+05\n",
      "max     381.000000   206.000000    3.553619e+07\n"
     ]
    }
   ],
   "source": [
    "RFM_new = RFM[['Recency','Frequency','Monetary_Value']]\n",
    "print(RFM_new.describe())"
   ]
  },
  {
   "cell_type": "code",
   "execution_count": 303,
   "id": "8a09e68c",
   "metadata": {},
   "outputs": [
    {
     "data": {
      "image/png": "[encoded data removed]",
      "text/plain": [
       "<Figure size 1080x1080 with 3 Axes>"
      ]
     },
     "metadata": {},
     "output_type": "display_data"
    }
   ],
   "source": [
    "# plot the distribution of RFM values\n",
    "f,ax = plt.subplots(figsize=(15, 15))\n",
    "plt.subplot(3, 1, 1); sns.distplot(RFM_new.Recency, label = 'Recency')\n",
    "plt.subplot(3, 1, 2); sns.distplot(RFM_new.Frequency, label = 'Frequency')\n",
    "plt.subplot(3, 1, 3); sns.distplot(RFM_new.Monetary_Value, label = 'Monetary Value')\n",
    "plt.style.use('fivethirtyeight')\n",
    "plt.tight_layout()\n",
    "plt.show()"
   ]
  },
  {
   "cell_type": "markdown",
   "id": "efbf8459",
   "metadata": {},
   "source": [
    "# Preprocessing"
   ]
  },
  {
   "cell_type": "markdown",
   "id": "dea77025",
   "metadata": {},
   "source": [
    "The data is highly skewed,therefore we will perform log transformations to reduce the skewness of each variable. Add a small constant as log transformation demands all the values to be positive."
   ]
  },
  {
   "cell_type": "code",
   "execution_count": 304,
   "id": "15ec50a8",
   "metadata": {},
   "outputs": [],
   "source": [
    "from scipy import stats\n",
    "def check_skew(df_skew, column):\n",
    "    skew = stats.skew(df_skew[column])\n",
    "    skewtest = stats.skewtest(df_skew[column])\n",
    "    plt.title('Distribution of ' + column)\n",
    "    sns.distplot(df_skew[column])\n",
    "    print(\"{}'s: Skew: {}, : {}\".format(column, skew, skewtest))\n",
    "    return"
   ]
  },
  {
   "cell_type": "code",
   "execution_count": 305,
   "id": "2f9276db",
   "metadata": {},
   "outputs": [
    {
     "name": "stdout",
     "output_type": "stream",
     "text": [
      "Recency's: Skew: -0.3033533194860082, : SkewtestResult(statistic=-7.981630554448922, pvalue=1.444127231295594e-15)\n",
      "Frequency's: Skew: 1.2018009061437023, : SkewtestResult(statistic=25.908866886735293, pvalue=5.291179903383846e-148)\n",
      "Monetary_Value's: Skew: 0.25852327980839435, : SkewtestResult(statistic=6.841445819205799, pvalue=7.839785619964004e-12)\n"
     ]
    },
    {
     "data": {
      "image/png": "[encoded data removed]",
      "text/plain": [
       "<Figure size 648x648 with 3 Axes>"
      ]
     },
     "metadata": {},
     "output_type": "display_data"
    }
   ],
   "source": [
    "#Performing Log Transformation to reduce skewness in data.\n",
    "RFM_log = np.log(RFM_new+1)\n",
    "\n",
    "#Plotting to check whether the skewness is reduced or not\n",
    "plt.figure(figsize=(9, 9))\n",
    "\n",
    "plt.subplot(3, 1, 1)\n",
    "check_skew(RFM_log,'Recency')\n",
    "\n",
    "plt.subplot(3, 1, 2)\n",
    "check_skew(RFM_log,'Frequency')\n",
    "\n",
    "plt.subplot(3, 1, 3)\n",
    "check_skew(RFM_log,'Monetary_Value')\n",
    "\n",
    "plt.tight_layout()\n",
    "plt.savefig('after_transform.png', format='png', dpi=1000)"
   ]
  },
  {
   "cell_type": "code",
   "execution_count": 306,
   "id": "0ea382b5",
   "metadata": {},
   "outputs": [
    {
     "data": {
      "text/plain": [
       "Recency          -0.303459\n",
       "Frequency         1.202218\n",
       "Monetary_Value    0.258613\n",
       "dtype: float64"
      ]
     },
     "execution_count": 306,
     "metadata": {},
     "output_type": "execute_result"
    }
   ],
   "source": [
    "RFM_log.skew()"
   ]
  },
  {
   "cell_type": "code",
   "execution_count": 307,
   "id": "701c73bd",
   "metadata": {},
   "outputs": [
    {
     "data": {
      "text/html": [
       "<div>\n",
       "<style scoped>\n",
       "    .dataframe tbody tr th:only-of-type {\n",
       "        vertical-align: middle;\n",
       "    }\n",
       "\n",
       "    .dataframe tbody tr th {\n",
       "        vertical-align: top;\n",
       "    }\n",
       "\n",
       "    .dataframe thead th {\n",
       "        text-align: right;\n",
       "    }\n",
       "</style>\n",
       "<table border=\"1\" class=\"dataframe\">\n",
       "  <thead>\n",
       "    <tr style=\"text-align: right;\">\n",
       "      <th></th>\n",
       "      <th>Recency</th>\n",
       "      <th>Frequency</th>\n",
       "      <th>Monetary_Value</th>\n",
       "    </tr>\n",
       "  </thead>\n",
       "  <tbody>\n",
       "    <tr>\n",
       "      <th>count</th>\n",
       "      <td>4324.000000</td>\n",
       "      <td>4324.000000</td>\n",
       "      <td>4324.000000</td>\n",
       "    </tr>\n",
       "    <tr>\n",
       "      <th>mean</th>\n",
       "      <td>3.882934</td>\n",
       "      <td>1.341089</td>\n",
       "      <td>11.429037</td>\n",
       "    </tr>\n",
       "    <tr>\n",
       "      <th>std</th>\n",
       "      <td>1.281343</td>\n",
       "      <td>0.681077</td>\n",
       "      <td>1.245210</td>\n",
       "    </tr>\n",
       "    <tr>\n",
       "      <th>min</th>\n",
       "      <td>0.693147</td>\n",
       "      <td>0.693147</td>\n",
       "      <td>5.963579</td>\n",
       "    </tr>\n",
       "    <tr>\n",
       "      <th>25%</th>\n",
       "      <td>2.995732</td>\n",
       "      <td>0.693147</td>\n",
       "      <td>10.578700</td>\n",
       "    </tr>\n",
       "    <tr>\n",
       "      <th>50%</th>\n",
       "      <td>3.970292</td>\n",
       "      <td>1.098612</td>\n",
       "      <td>11.363822</td>\n",
       "    </tr>\n",
       "    <tr>\n",
       "      <th>75%</th>\n",
       "      <td>4.971543</td>\n",
       "      <td>1.791759</td>\n",
       "      <td>12.258830</td>\n",
       "    </tr>\n",
       "    <tr>\n",
       "      <th>max</th>\n",
       "      <td>5.945421</td>\n",
       "      <td>5.332719</td>\n",
       "      <td>17.386062</td>\n",
       "    </tr>\n",
       "  </tbody>\n",
       "</table>\n",
       "</div>"
      ],
      "text/plain": [
       "           Recency    Frequency  Monetary_Value\n",
       "count  4324.000000  4324.000000     4324.000000\n",
       "mean      3.882934     1.341089       11.429037\n",
       "std       1.281343     0.681077        1.245210\n",
       "min       0.693147     0.693147        5.963579\n",
       "25%       2.995732     0.693147       10.578700\n",
       "50%       3.970292     1.098612       11.363822\n",
       "75%       4.971543     1.791759       12.258830\n",
       "max       5.945421     5.332719       17.386062"
      ]
     },
     "execution_count": 307,
     "metadata": {},
     "output_type": "execute_result"
    }
   ],
   "source": [
    "RFM_log.describe()"
   ]
  },
  {
   "cell_type": "code",
   "execution_count": 308,
   "id": "54d76e04",
   "metadata": {},
   "outputs": [
    {
     "data": {
      "image/png": "[encoded data removed]",
      "text/plain": [
       "<Figure size 432x288 with 1 Axes>"
      ]
     },
     "metadata": {},
     "output_type": "display_data"
    },
    {
     "data": {
      "image/png": "[encoded data removed]",
      "text/plain": [
       "<Figure size 432x288 with 1 Axes>"
      ]
     },
     "metadata": {},
     "output_type": "display_data"
    },
    {
     "data": {
      "image/png": "[encoded data removed]",
      "text/plain": [
       "<Figure size 432x288 with 1 Axes>"
      ]
     },
     "metadata": {},
     "output_type": "display_data"
    }
   ],
   "source": [
    "#To find outliers in data\n",
    "for x in RFM_log.columns:\n",
    "    RFM_log.boxplot(column=x)\n",
    "    plt.show()"
   ]
  },
  {
   "cell_type": "code",
   "execution_count": 309,
   "id": "7f4053e6",
   "metadata": {},
   "outputs": [
    {
     "name": "stdout",
     "output_type": "stream",
     "text": [
      "3.439677902230219\n"
     ]
    }
   ],
   "source": [
    "#treating outliers for frequency\n",
    "q1 = RFM_log['Frequency'].quantile(0.25)\n",
    "q3 = RFM_log['Frequency'].quantile(0.75) # third quartile value\n",
    "iqr = q3-q1 #Interquartile range\n",
    "high = q3+1.5*iqr #acceptable range # quartile range\n",
    "print(high)"
   ]
  },
  {
   "cell_type": "code",
   "execution_count": 310,
   "id": "44a62000",
   "metadata": {},
   "outputs": [],
   "source": [
    "#Capping Frequency value\n",
    "RFM_log.loc[RFM_log[\"Frequency\"] >high, \"Frequency\"] = high"
   ]
  },
  {
   "cell_type": "code",
   "execution_count": 311,
   "id": "b6d63219",
   "metadata": {
    "scrolled": true
   },
   "outputs": [
    {
     "name": "stdout",
     "output_type": "stream",
     "text": [
      "8.058504756489594\n",
      "14.779024940437349\n"
     ]
    }
   ],
   "source": [
    "#treating outliers for Monetary Value\n",
    "q1 = RFM_log['Monetary_Value'].quantile(0.25)\n",
    "q3 = RFM_log['Monetary_Value'].quantile(0.75) # third quartile value\n",
    "iqr = q3-q1 #Interquartile range\n",
    "low  = q1-1.5*iqr #acceptable range\n",
    "high = q3+1.5*iqr #acceptable range # quartile range\n",
    "print(low)\n",
    "print(high)"
   ]
  },
  {
   "cell_type": "code",
   "execution_count": 312,
   "id": "410bff74",
   "metadata": {},
   "outputs": [],
   "source": [
    "#Capping Monetary value\n",
    "RFM_log.loc[RFM_log[\"Monetary_Value\"] <low, \"Monetary_Value\"] = low\n",
    "RFM_log.loc[RFM_log[\"Monetary_Value\"] >high, \"Monetary_Value\"] = high"
   ]
  },
  {
   "cell_type": "code",
   "execution_count": 313,
   "id": "f9dcfde0",
   "metadata": {},
   "outputs": [
    {
     "data": {
      "text/html": [
       "<div>\n",
       "<style scoped>\n",
       "    .dataframe tbody tr th:only-of-type {\n",
       "        vertical-align: middle;\n",
       "    }\n",
       "\n",
       "    .dataframe tbody tr th {\n",
       "        vertical-align: top;\n",
       "    }\n",
       "\n",
       "    .dataframe thead th {\n",
       "        text-align: right;\n",
       "    }\n",
       "</style>\n",
       "<table border=\"1\" class=\"dataframe\">\n",
       "  <thead>\n",
       "    <tr style=\"text-align: right;\">\n",
       "      <th></th>\n",
       "      <th>Recency</th>\n",
       "      <th>Frequency</th>\n",
       "      <th>Monetary_Value</th>\n",
       "    </tr>\n",
       "  </thead>\n",
       "  <tbody>\n",
       "    <tr>\n",
       "      <th>count</th>\n",
       "      <td>4324.000000</td>\n",
       "      <td>4324.000000</td>\n",
       "      <td>4324.000000</td>\n",
       "    </tr>\n",
       "    <tr>\n",
       "      <th>mean</th>\n",
       "      <td>3.882934</td>\n",
       "      <td>1.336626</td>\n",
       "      <td>11.425677</td>\n",
       "    </tr>\n",
       "    <tr>\n",
       "      <th>std</th>\n",
       "      <td>1.281343</td>\n",
       "      <td>0.663995</td>\n",
       "      <td>1.215988</td>\n",
       "    </tr>\n",
       "    <tr>\n",
       "      <th>min</th>\n",
       "      <td>0.693147</td>\n",
       "      <td>0.693147</td>\n",
       "      <td>8.058505</td>\n",
       "    </tr>\n",
       "    <tr>\n",
       "      <th>25%</th>\n",
       "      <td>2.995732</td>\n",
       "      <td>0.693147</td>\n",
       "      <td>10.578700</td>\n",
       "    </tr>\n",
       "    <tr>\n",
       "      <th>50%</th>\n",
       "      <td>3.970292</td>\n",
       "      <td>1.098612</td>\n",
       "      <td>11.363822</td>\n",
       "    </tr>\n",
       "    <tr>\n",
       "      <th>75%</th>\n",
       "      <td>4.971543</td>\n",
       "      <td>1.791759</td>\n",
       "      <td>12.258830</td>\n",
       "    </tr>\n",
       "    <tr>\n",
       "      <th>max</th>\n",
       "      <td>5.945421</td>\n",
       "      <td>3.439678</td>\n",
       "      <td>14.779025</td>\n",
       "    </tr>\n",
       "  </tbody>\n",
       "</table>\n",
       "</div>"
      ],
      "text/plain": [
       "           Recency    Frequency  Monetary_Value\n",
       "count  4324.000000  4324.000000     4324.000000\n",
       "mean      3.882934     1.336626       11.425677\n",
       "std       1.281343     0.663995        1.215988\n",
       "min       0.693147     0.693147        8.058505\n",
       "25%       2.995732     0.693147       10.578700\n",
       "50%       3.970292     1.098612       11.363822\n",
       "75%       4.971543     1.791759       12.258830\n",
       "max       5.945421     3.439678       14.779025"
      ]
     },
     "execution_count": 313,
     "metadata": {},
     "output_type": "execute_result"
    }
   ],
   "source": [
    "RFM_log.describe(include='all')"
   ]
  },
  {
   "cell_type": "code",
   "execution_count": 314,
   "id": "0f817a4e",
   "metadata": {},
   "outputs": [
    {
     "data": {
      "image/png": "[encoded data removed]",
      "text/plain": [
       "<Figure size 432x288 with 1 Axes>"
      ]
     },
     "metadata": {},
     "output_type": "display_data"
    },
    {
     "data": {
      "image/png": "[encoded data removed]",
      "text/plain": [
       "<Figure size 432x288 with 1 Axes>"
      ]
     },
     "metadata": {},
     "output_type": "display_data"
    },
    {
     "data": {
      "image/png": "[encoded data removed]",
      "text/plain": [
       "<Figure size 432x288 with 1 Axes>"
      ]
     },
     "metadata": {},
     "output_type": "display_data"
    }
   ],
   "source": [
    "#Post outlier treatment checking for outliers\n",
    "for x in RFM_log.columns:\n",
    "    RFM_log.boxplot(column=x)\n",
    "    plt.show()"
   ]
  },
  {
   "cell_type": "markdown",
   "id": "0c4ed0b5",
   "metadata": {},
   "source": [
    "# Implementation of K-Means"
   ]
  },
  {
   "cell_type": "code",
   "execution_count": 315,
   "id": "b5cb32de",
   "metadata": {},
   "outputs": [],
   "source": [
    "#To convert dataframe into an array\n",
    "x=RFM_log.values[:,0:2] #<== Change value from 2 to 3 if you want to consider Monetary value as well."
   ]
  },
  {
   "cell_type": "markdown",
   "id": "ff454f52",
   "metadata": {},
   "source": [
    "**[:,0:2] We are taking only Recency & Frequency values. If we take Monetary value then it will affect our cluster formation i.e. clusters formed will have overlapping datapoints.**"
   ]
  },
  {
   "cell_type": "code",
   "execution_count": 316,
   "id": "51c60a79",
   "metadata": {},
   "outputs": [
    {
     "data": {
      "text/plain": [
       "array([[1.60943791, 2.07944154],\n",
       "       [4.35670883, 1.60943791],\n",
       "       [2.99573227, 0.69314718],\n",
       "       ...,\n",
       "       [2.30258509, 1.09861229],\n",
       "       [1.60943791, 2.83321334],\n",
       "       [3.80666249, 1.38629436]])"
      ]
     },
     "execution_count": 316,
     "metadata": {},
     "output_type": "execute_result"
    }
   ],
   "source": [
    "x"
   ]
  },
  {
   "cell_type": "code",
   "execution_count": 317,
   "id": "878ccb62",
   "metadata": {},
   "outputs": [
    {
     "data": {
      "image/png": "[encoded data removed]",
      "text/plain": [
       "<Figure size 432x288 with 1 Axes>"
      ]
     },
     "metadata": {},
     "output_type": "display_data"
    }
   ],
   "source": [
    "from sklearn.cluster import KMeans\n",
    "\n",
    "wcss = []\n",
    "for i in range(1, 10):\n",
    "    kmeans = KMeans(n_clusters = i, random_state =10)\n",
    "    kmeans.fit(x)\n",
    "    wcss.append(kmeans.inertia_)\n",
    "    #inertia -> Sum of squared error\n",
    "plt.plot(range(1, 10),wcss)\n",
    "plt.scatter(range(1, 10),wcss)\n",
    "plt.title('The Elbow Method')\n",
    "plt.xlabel('Number of clusters')\n",
    "plt.ylabel('WCSS')\n",
    "plt.show()"
   ]
  },
  {
   "cell_type": "code",
   "execution_count": 318,
   "id": "eb38593d",
   "metadata": {},
   "outputs": [
    {
     "name": "stdout",
     "output_type": "stream",
     "text": [
      "[9003.636554104552, 3571.077373096242, 2245.3181920184893, 1730.8144197930017, 1395.7628361486431, 1149.5340733798857, 968.9234906469774, 849.455323275519, 765.3701357566433]\n"
     ]
    }
   ],
   "source": [
    "print(wcss)"
   ]
  },
  {
   "cell_type": "markdown",
   "id": "61eadbda",
   "metadata": {},
   "source": [
    "We choose number of Clusters=3"
   ]
  },
  {
   "cell_type": "code",
   "execution_count": 319,
   "id": "36477778",
   "metadata": {},
   "outputs": [],
   "source": [
    "kmeans = KMeans(n_clusters=3, random_state=10)\n",
    "y_pred=kmeans.fit_predict(x)"
   ]
  },
  {
   "cell_type": "code",
   "execution_count": 320,
   "id": "cc132716",
   "metadata": {},
   "outputs": [
    {
     "data": {
      "text/plain": [
       "array([2, 0, 0, ..., 2, 2, 0])"
      ]
     },
     "execution_count": 320,
     "metadata": {},
     "output_type": "execute_result"
    }
   ],
   "source": [
    "y_pred"
   ]
  },
  {
   "cell_type": "code",
   "execution_count": 321,
   "id": "d0ebf8d4",
   "metadata": {},
   "outputs": [],
   "source": [
    "# Assign the clusters to datamart\n",
    "RFM_log['Clusters'] = y_pred"
   ]
  },
  {
   "cell_type": "code",
   "execution_count": 322,
   "id": "604472a7",
   "metadata": {},
   "outputs": [
    {
     "data": {
      "text/plain": [
       "array([2, 0, 1])"
      ]
     },
     "execution_count": 322,
     "metadata": {},
     "output_type": "execute_result"
    }
   ],
   "source": [
    "RFM_log.Clusters.unique()"
   ]
  },
  {
   "cell_type": "code",
   "execution_count": 323,
   "id": "9f86dfaa",
   "metadata": {},
   "outputs": [
    {
     "data": {
      "text/html": [
       "<div>\n",
       "<style scoped>\n",
       "    .dataframe tbody tr th:only-of-type {\n",
       "        vertical-align: middle;\n",
       "    }\n",
       "\n",
       "    .dataframe tbody tr th {\n",
       "        vertical-align: top;\n",
       "    }\n",
       "\n",
       "    .dataframe thead th {\n",
       "        text-align: right;\n",
       "    }\n",
       "</style>\n",
       "<table border=\"1\" class=\"dataframe\">\n",
       "  <thead>\n",
       "    <tr style=\"text-align: right;\">\n",
       "      <th></th>\n",
       "      <th>Recency</th>\n",
       "      <th>Frequency</th>\n",
       "      <th>Monetary_Value</th>\n",
       "      <th>Clusters</th>\n",
       "    </tr>\n",
       "  </thead>\n",
       "  <tbody>\n",
       "    <tr>\n",
       "      <th>0</th>\n",
       "      <td>1.609438</td>\n",
       "      <td>2.079442</td>\n",
       "      <td>13.224387</td>\n",
       "      <td>2</td>\n",
       "    </tr>\n",
       "    <tr>\n",
       "      <th>1</th>\n",
       "      <td>4.356709</td>\n",
       "      <td>1.609438</td>\n",
       "      <td>12.458406</td>\n",
       "      <td>0</td>\n",
       "    </tr>\n",
       "    <tr>\n",
       "      <th>2</th>\n",
       "      <td>2.995732</td>\n",
       "      <td>0.693147</td>\n",
       "      <td>12.081722</td>\n",
       "      <td>0</td>\n",
       "    </tr>\n",
       "    <tr>\n",
       "      <th>3</th>\n",
       "      <td>5.743003</td>\n",
       "      <td>0.693147</td>\n",
       "      <td>10.644877</td>\n",
       "      <td>1</td>\n",
       "    </tr>\n",
       "    <tr>\n",
       "      <th>4</th>\n",
       "      <td>3.637586</td>\n",
       "      <td>2.079442</td>\n",
       "      <td>12.025587</td>\n",
       "      <td>0</td>\n",
       "    </tr>\n",
       "    <tr>\n",
       "      <th>5</th>\n",
       "      <td>5.342334</td>\n",
       "      <td>0.693147</td>\n",
       "      <td>9.149634</td>\n",
       "      <td>1</td>\n",
       "    </tr>\n",
       "    <tr>\n",
       "      <th>6</th>\n",
       "      <td>5.455321</td>\n",
       "      <td>0.693147</td>\n",
       "      <td>11.817103</td>\n",
       "      <td>1</td>\n",
       "    </tr>\n",
       "    <tr>\n",
       "      <th>7</th>\n",
       "      <td>5.375278</td>\n",
       "      <td>0.693147</td>\n",
       "      <td>11.094877</td>\n",
       "      <td>1</td>\n",
       "    </tr>\n",
       "    <tr>\n",
       "      <th>8</th>\n",
       "      <td>3.258097</td>\n",
       "      <td>1.386294</td>\n",
       "      <td>12.711691</td>\n",
       "      <td>0</td>\n",
       "    </tr>\n",
       "    <tr>\n",
       "      <th>9</th>\n",
       "      <td>3.555348</td>\n",
       "      <td>0.693147</td>\n",
       "      <td>13.556014</td>\n",
       "      <td>0</td>\n",
       "    </tr>\n",
       "  </tbody>\n",
       "</table>\n",
       "</div>"
      ],
      "text/plain": [
       "    Recency  Frequency  Monetary_Value  Clusters\n",
       "0  1.609438   2.079442       13.224387         2\n",
       "1  4.356709   1.609438       12.458406         0\n",
       "2  2.995732   0.693147       12.081722         0\n",
       "3  5.743003   0.693147       10.644877         1\n",
       "4  3.637586   2.079442       12.025587         0\n",
       "5  5.342334   0.693147        9.149634         1\n",
       "6  5.455321   0.693147       11.817103         1\n",
       "7  5.375278   0.693147       11.094877         1\n",
       "8  3.258097   1.386294       12.711691         0\n",
       "9  3.555348   0.693147       13.556014         0"
      ]
     },
     "execution_count": 323,
     "metadata": {},
     "output_type": "execute_result"
    }
   ],
   "source": [
    "RFM_log.head(10)"
   ]
  },
  {
   "cell_type": "code",
   "execution_count": 324,
   "id": "b460da9a",
   "metadata": {},
   "outputs": [
    {
     "data": {
      "image/png": "[encoded data removed]",
      "text/plain": [
       "<Figure size 428.575x360 with 1 Axes>"
      ]
     },
     "metadata": {},
     "output_type": "display_data"
    }
   ],
   "source": [
    "sns.lmplot(data=RFM_log,x='Recency',y='Frequency',fit_reg=False, #No regression line\n",
    "          hue='Clusters',palette=\"Set1\")\n",
    "plt.show()"
   ]
  },
  {
   "cell_type": "code",
   "execution_count": 325,
   "id": "a3c7c692",
   "metadata": {},
   "outputs": [
    {
     "data": {
      "image/png": "[encoded data removed]",
      "text/plain": [
       "<Figure size 428.575x360 with 1 Axes>"
      ]
     },
     "metadata": {},
     "output_type": "display_data"
    }
   ],
   "source": [
    "sns.lmplot(data=RFM_log,x='Recency',y='Frequency',fit_reg=False, #No regression line\n",
    "          hue='Clusters',palette=\"Set1\")\n",
    "plt.scatter(kmeans.cluster_centers_[:, 0], kmeans.cluster_centers_[:, 1],\n",
    "            s = 300, c = 'yellow')\n",
    "plt.show()"
   ]
  },
  {
   "cell_type": "code",
   "execution_count": 326,
   "id": "166715d8",
   "metadata": {},
   "outputs": [
    {
     "data": {
      "text/plain": [
       "<AxesSubplot:ylabel='count'>"
      ]
     },
     "execution_count": 326,
     "metadata": {},
     "output_type": "execute_result"
    },
    {
     "data": {
      "image/png": "[encoded data removed]",
      "text/plain": [
       "<Figure size 432x288 with 1 Axes>"
      ]
     },
     "metadata": {},
     "output_type": "display_data"
    }
   ],
   "source": [
    "sns.countplot(y_pred)"
   ]
  },
  {
   "cell_type": "markdown",
   "id": "bde1f4c1",
   "metadata": {},
   "source": [
    "**Plot below mentioned scatterplot only if you have taken monetary value in array 'x'**"
   ]
  },
  {
   "cell_type": "code",
   "execution_count": 327,
   "id": "570e01a7",
   "metadata": {},
   "outputs": [],
   "source": [
    "# 3d scatterplot using plotly\n",
    "#Scene = dict(xaxis = dict(title  = 'Recency'),yaxis = dict(title  = 'Monetary Value'),zaxis = dict(title  = 'Frequency'))\n",
    "\n",
    "# kmeans.labels_ is nothing but the predicted clusters i.e y_pred\n",
    "#labels = kmeans.labels_\n",
    "#trace = go.Scatter3d(x=x[:, 0], y=x[:, 2], z=x[:, 1], mode='markers',marker=dict(color = labels, size= 10, line=dict(color= 'black',width = 10)))\n",
    "#layout = go.Layout(margin=dict(l=0,r=0),scene = Scene,height = 800,width = 800)\n",
    "#data = [trace]\n",
    "#fig = go.Figure(data = data, layout = layout)\n",
    "#fig.show()"
   ]
  },
  {
   "cell_type": "code",
   "execution_count": 328,
   "id": "a201363b",
   "metadata": {},
   "outputs": [],
   "source": [
    "rfm_cluster_agg = RFM_log.groupby('Clusters').agg({'Recency' :'mean',\n",
    "                                       'Frequency':'mean',\n",
    "                                       'Monetary_Value':['mean','count']}).round(0)"
   ]
  },
  {
   "cell_type": "code",
   "execution_count": 329,
   "id": "395fcbea",
   "metadata": {},
   "outputs": [
    {
     "data": {
      "text/html": [
       "<div>\n",
       "<style scoped>\n",
       "    .dataframe tbody tr th:only-of-type {\n",
       "        vertical-align: middle;\n",
       "    }\n",
       "\n",
       "    .dataframe tbody tr th {\n",
       "        vertical-align: top;\n",
       "    }\n",
       "\n",
       "    .dataframe thead tr th {\n",
       "        text-align: left;\n",
       "    }\n",
       "\n",
       "    .dataframe thead tr:last-of-type th {\n",
       "        text-align: right;\n",
       "    }\n",
       "</style>\n",
       "<table border=\"1\" class=\"dataframe\">\n",
       "  <thead>\n",
       "    <tr>\n",
       "      <th></th>\n",
       "      <th>Recency</th>\n",
       "      <th>Frequency</th>\n",
       "      <th colspan=\"2\" halign=\"left\">Monetary_Value</th>\n",
       "    </tr>\n",
       "    <tr>\n",
       "      <th></th>\n",
       "      <th>mean</th>\n",
       "      <th>mean</th>\n",
       "      <th>mean</th>\n",
       "      <th>count</th>\n",
       "    </tr>\n",
       "    <tr>\n",
       "      <th>Clusters</th>\n",
       "      <th></th>\n",
       "      <th></th>\n",
       "      <th></th>\n",
       "      <th></th>\n",
       "    </tr>\n",
       "  </thead>\n",
       "  <tbody>\n",
       "    <tr>\n",
       "      <th>0</th>\n",
       "      <td>4.0</td>\n",
       "      <td>1.0</td>\n",
       "      <td>11.0</td>\n",
       "      <td>1837</td>\n",
       "    </tr>\n",
       "    <tr>\n",
       "      <th>1</th>\n",
       "      <td>5.0</td>\n",
       "      <td>1.0</td>\n",
       "      <td>11.0</td>\n",
       "      <td>1470</td>\n",
       "    </tr>\n",
       "    <tr>\n",
       "      <th>2</th>\n",
       "      <td>2.0</td>\n",
       "      <td>2.0</td>\n",
       "      <td>12.0</td>\n",
       "      <td>1017</td>\n",
       "    </tr>\n",
       "  </tbody>\n",
       "</table>\n",
       "</div>"
      ],
      "text/plain": [
       "         Recency Frequency Monetary_Value      \n",
       "            mean      mean           mean count\n",
       "Clusters                                       \n",
       "0            4.0       1.0           11.0  1837\n",
       "1            5.0       1.0           11.0  1470\n",
       "2            2.0       2.0           12.0  1017"
      ]
     },
     "execution_count": 329,
     "metadata": {},
     "output_type": "execute_result"
    }
   ],
   "source": [
    "rfm_cluster_agg"
   ]
  },
  {
   "cell_type": "code",
   "execution_count": 330,
   "id": "6cabaedc",
   "metadata": {},
   "outputs": [],
   "source": [
    "#Rename the cluster on the basis of all R,F & M values\n",
    "RFM_log[\"Clusters\"]=RFM_log.Clusters.map({0:\"Medium Value Customer\",1:\"Low Value Customer\",2:\"High Value Customer\"})"
   ]
  },
  {
   "cell_type": "code",
   "execution_count": 331,
   "id": "16ca34ab",
   "metadata": {},
   "outputs": [],
   "source": [
    "RFM_log.to_excel(r\"ClusterSegments.xlsx\",index=True)"
   ]
  },
  {
   "cell_type": "code",
   "execution_count": null,
   "id": "5da58592",
   "metadata": {},
   "outputs": [],
   "source": []
  }
 ],
 "metadata": {
  "kernelspec": {
   "display_name": "Python 3",
   "language": "python",
   "name": "python3"
  },
  "language_info": {
   "codemirror_mode": {
    "name": "ipython",
    "version": 3
   },
   "file_extension": ".py",
   "mimetype": "text/x-python",
   "name": "python",
   "nbconvert_exporter": "python",
   "pygments_lexer": "ipython3",
   "version": "3.8.8"
  }
 },
 "nbformat": 4,
 "nbformat_minor": 5
}
